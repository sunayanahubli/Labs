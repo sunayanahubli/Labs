{
 "cells": [
  {
   "cell_type": "markdown",
   "metadata": {},
   "source": [
    "This example uses \"MySQL Connector\" as DB driver package to communicate with MySQL DB server.To install \"MySQL Connector\", run the following pip command:\n",
    "  pip install mysql-connector-python"
   ]
  },
  {
   "cell_type": "code",
   "execution_count": 2,
   "metadata": {},
   "outputs": [],
   "source": [
    "import mysql.connector\n",
    "import pprint\n",
    "\n",
    "cnx = mysql.connector.connect(host='172.16.34.1', port='3307',\n",
    "                            user='umls', password='umls', database='umls2020')\n",
    "cur = cnx.cursor()"
   ]
  },
  {
   "cell_type": "code",
   "execution_count": 3,
   "metadata": {},
   "outputs": [],
   "source": [
    "def run_query(cur, query):\n",
    "    cur.execute(query)\n",
    "    query_result = cur.fetchall()\n",
    "    col_names = [ col[0] for col in cur.description]\n",
    "    pprint.pprint(col_names)\n",
    "    pprint.pprint(query_result)"
   ]
  },
  {
   "cell_type": "code",
   "execution_count": null,
   "metadata": {},
   "outputs": [],
   "source": [
    "run_query(cur, \"\"\"\n",
    "select * from MRCONSO limit 10\n",
    "\"\"\")"
   ]
  },
  {
   "cell_type": "code",
   "execution_count": 6,
   "metadata": {},
   "outputs": [],
   "source": [
    "cnx.close()"
   ]
  }
 ],
 "metadata": {
  "interpreter": {
   "hash": "8f395c17a32d4f0c6638ba3734095bd488d94b38c2c7e98c593435e82e700720"
  },
  "kernelspec": {
   "display_name": "Python 3.8.5 64-bit ('base': conda)",
   "language": "python",
   "name": "python3"
  },
  "language_info": {
   "codemirror_mode": {
    "name": "ipython",
    "version": 3
   },
   "file_extension": ".py",
   "mimetype": "text/x-python",
   "name": "python",
   "nbconvert_exporter": "python",
   "pygments_lexer": "ipython3",
   "version": "3.8.5"
  },
  "orig_nbformat": 4
 },
 "nbformat": 4,
 "nbformat_minor": 2
}
