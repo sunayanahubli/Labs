{
 "cells": [
  {
   "cell_type": "markdown",
   "metadata": {},
   "source": [
    "Install required libraries\n",
    "Currently, PyTorch on Windows only supports Python 3.7-3.9; Python 2.x is not supported.\n",
    "This code runs in Python 3.8\n",
    "Download and install Visual Studio Build Tools from https://visualstudio.microsoft.com/visual-cpp-build-tools/\n",
    "Also install https://aka.ms/vs/17/release/vc_redist.x64.exe\n"
   ]
  },
  {
   "cell_type": "code",
   "execution_count": null,
   "metadata": {},
   "outputs": [],
   "source": [
    "! pip install ipykernel\n",
    "\n",
    "! pip install -U pip setuptools wheel\n",
    "! pip install -U spacy[transformers,lookups]==3.0.3\n",
    "! python -m spacy download en_core_web_trf\n",
    "\n",
    "! pip3 install torch==1.8.2+cu111 torchvision==0.9.2+cu111 torchaudio===0.8.2 -f https://download.pytorch.org/whl/lts/1.8/torch_lts.html\n",
    "\n",
    "! pip install scispacy\n",
    "! pip install https://s3-us-west-2.amazonaws.com/ai2-s2-scispacy/releases/v0.4.0/en_core_sci_scibert-0.4.0.tar.gz\n",
    "\n",
    "! pip install cupy-cuda113\n",
    "\n",
    "# Run this command in terminal first\n",
    "# set CUDA_PATH=C:\\Program Files\\NVIDIA GPU Computing Toolkit\\CUDA\\v11.3\n",
    "# SET DISTUTILS_USE_SDK=1 & \"C:\\Program Files (x86)\\Microsoft Visual Studio\\2019\\BuildTools\\VC\\Auxiliary\\Build\\vcvarsall.bat\" x64\n",
    "! pip install -U spacy[cuda]==3.0.6\n",
    "\n",
    "! conda install -c conda-forge cupy cudatoolkit=11.3\n",
    "\n",
    "\n",
    "! pip install -U spacy[cuda,transformers,lookups]==3.0.3\n",
    "! sudo apt install nvidia-cuda-toolkit\n"
   ]
  },
  {
   "cell_type": "code",
   "execution_count": null,
   "metadata": {},
   "outputs": [],
   "source": [
    "# Create a default config.cfg file for NER training\n",
    "! python -m spacy init config config.cfg --lang en --pipeline ner --optimize accuracy --gpu"
   ]
  },
  {
   "cell_type": "code",
   "execution_count": null,
   "metadata": {},
   "outputs": [],
   "source": [
    "# Train an NER model using the default config file\n",
    "! python -m spacy train config.cfg --output ./output --paths.train ./train.spacy --paths.dev ./develop.spacy --gpu-id 0"
   ]
  },
  {
   "cell_type": "code",
   "execution_count": null,
   "metadata": {},
   "outputs": [],
   "source": [
    "# Evalute the trained model\n",
    "! python -m spacy evaluate ./output/model-best test.spacy --output ./content/ --gpu-id 0"
   ]
  }
 ],
 "metadata": {
  "interpreter": {
   "hash": "1dc1971f5e9b5a6a06dac3ec49938056e781fbcf6ab44778935a9085879b7b2a"
  },
  "kernelspec": {
   "display_name": "Python 3.8.5 ('NLP_310_A')",
   "language": "python",
   "name": "python3"
  },
  "language_info": {
   "name": "python",
   "version": "3.8.5"
  },
  "orig_nbformat": 4
 },
 "nbformat": 4,
 "nbformat_minor": 2
}
