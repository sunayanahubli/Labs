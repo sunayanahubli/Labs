{
 "cells": [
  {
   "cell_type": "code",
   "execution_count": 13,
   "metadata": {
    "collapsed": true,
    "pycharm": {
     "name": "#%%\n"
    }
   },
   "outputs": [],
   "source": [
    "import os\n",
    "os.environ[\"CUDA_VISIBLE_DEVICES\"] = \"7\"\n",
    "import warnings\n",
    "warnings.filterwarnings('ignore')\n",
    "import torch\n",
    "from transformers import BertTokenizer, BertModel"
   ]
  },
  {
   "cell_type": "code",
   "execution_count": 14,
   "outputs": [
    {
     "name": "stderr",
     "output_type": "stream",
     "text": [
      "Some weights of the model checkpoint at allenai/scibert_scivocab_uncased were not used when initializing BertModel: ['cls.predictions.transform.LayerNorm.weight', 'cls.predictions.transform.LayerNorm.bias', 'cls.predictions.decoder.bias', 'cls.predictions.transform.dense.bias', 'cls.seq_relationship.weight', 'cls.predictions.decoder.weight', 'cls.predictions.bias', 'cls.predictions.transform.dense.weight', 'cls.seq_relationship.bias']\n",
      "- This IS expected if you are initializing BertModel from the checkpoint of a model trained on another task or with another architecture (e.g. initializing a BertForSequenceClassification model from a BertForPreTraining model).\n",
      "- This IS NOT expected if you are initializing BertModel from the checkpoint of a model that you expect to be exactly identical (initializing a BertForSequenceClassification model from a BertForSequenceClassification model).\n"
     ]
    }
   ],
   "source": [
    "model_version = 'allenai/scibert_scivocab_uncased'\n",
    "do_lower_case = True\n",
    "model = BertModel.from_pretrained(model_version).to(\"cuda:0\")\n",
    "tokenizer = BertTokenizer.from_pretrained(model_version, do_lower_case=do_lower_case)"
   ],
   "metadata": {
    "collapsed": false,
    "pycharm": {
     "name": "#%%\n"
    }
   }
  },
  {
   "cell_type": "code",
   "execution_count": 4,
   "outputs": [],
   "source": [
    "def embed_text(text, model):\n",
    "    with torch.no_grad():\n",
    "        input_ids = torch.tensor(tokenizer.encode(text), device=\"cuda\").unsqueeze(0)  # Batch size 1\n",
    "        outputs = model(input_ids)\n",
    "        last_hidden_states = outputs[0].to('cpu')  # The last hidden-state is the first element of the output tuple\n",
    "\n",
    "    return last_hidden_states"
   ],
   "metadata": {
    "collapsed": false,
    "pycharm": {
     "name": "#%%\n"
    }
   }
  },
  {
   "cell_type": "code",
   "execution_count": 5,
   "outputs": [
    {
     "name": "stderr",
     "output_type": "stream",
     "text": [
      "100%|██████████| 44145/44145 [06:34<00:00, 111.88it/s]\n"
     ]
    }
   ],
   "source": [
    "from tqdm import tqdm\n",
    "import json\n",
    "# Load strings from an existing vocab\n",
    "vocab_list = json.load(open(\"simple_ner_spacy/model-best/vocab/strings.json\", 'r', encoding='utf-8'))\n",
    "\n",
    "strings = {}\n",
    "for line in tqdm(vocab_list):\n",
    "    string = line.strip()\n",
    "    em1 = embed_text(string, model).mean(1)\n",
    "    strings[string] = em1.detach().numpy().tolist()"
   ],
   "metadata": {
    "collapsed": false,
    "pycharm": {
     "name": "#%%\n"
    }
   }
  },
  {
   "cell_type": "code",
   "execution_count": 8,
   "outputs": [],
   "source": [
    "# Save the result in JSON\n",
    "json.dump(strings, open(f'scibert_vectors.json', 'w'))"
   ],
   "metadata": {
    "collapsed": false,
    "pycharm": {
     "name": "#%%\n"
    }
   }
  },
  {
   "cell_type": "code",
   "execution_count": 12,
   "outputs": [],
   "source": [
    "# Saved the result in spaCy loadable format\n",
    "with open('scibert_layer0.vec', 'w', encoding='utf-8') as f:\n",
    "    header_written = False\n",
    "    for word in strings:\n",
    "        if not header_written:\n",
    "            f.write(f\"{len(strings)} {len(strings[word][0])}\\n\")\n",
    "            header_written = True\n",
    "        vector_str = ' '.join([f'{x:5.4f}' for x in strings[word][0]])\n",
    "        f.write(f\"{word} {vector_str}\\n\")"
   ],
   "metadata": {
    "collapsed": false,
    "pycharm": {
     "name": "#%%\n"
    }
   }
  },
  {
   "cell_type": "code",
   "execution_count": null,
   "outputs": [],
   "source": [],
   "metadata": {
    "collapsed": false,
    "pycharm": {
     "name": "#%%\n"
    }
   }
  }
 ],
 "metadata": {
  "kernelspec": {
   "display_name": "Python 3",
   "language": "python",
   "name": "python3"
  },
  "language_info": {
   "codemirror_mode": {
    "name": "ipython",
    "version": 2
   },
   "file_extension": ".py",
   "mimetype": "text/x-python",
   "name": "python",
   "nbconvert_exporter": "python",
   "pygments_lexer": "ipython2",
   "version": "2.7.6"
  }
 },
 "nbformat": 4,
 "nbformat_minor": 0
}