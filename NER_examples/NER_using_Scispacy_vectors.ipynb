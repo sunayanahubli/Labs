{
 "cells": [
  {
   "cell_type": "code",
   "execution_count": 35,
   "metadata": {
    "collapsed": true,
    "pycharm": {
     "name": "#%%\n"
    }
   },
   "outputs": [],
   "source": [
    "import os\n",
    "\n",
    "os.environ[\"CUDA_VISIBLE_DEVICES\"] = \"6\"\n",
    "import warnings\n",
    "warnings.filterwarnings('ignore')\n",
    "import spacy\n",
    "import random\n",
    "from spacy.util import minibatch, compounding\n",
    "from spacy.training import Example"
   ]
  },
  {
   "cell_type": "code",
   "execution_count": 36,
   "outputs": [],
   "source": [
    "# Load the scibert model and create a blank NER model\n",
    "nlp = spacy.load(\"en_core_sci_scibert\")\n",
    "ner_model = spacy.blank('en')\n",
    "\n",
    "# Added NER to the blank NER model\n",
    "ner = ner_model.add_pipe('ner', last=True)\n",
    "\n",
    "# Combine the two models\n",
    "ner_model.vocab.vectors = nlp.vocab.vectors"
   ],
   "metadata": {
    "collapsed": false,
    "pycharm": {
     "name": "#%%\n"
    }
   }
  },
  {
   "cell_type": "code",
   "execution_count": 37,
   "outputs": [],
   "source": [
    "# Create Examples for training\n",
    "\n",
    "# Load the training data\n",
    "from spacy.tokens import DocBin\n",
    "\n",
    "# Load the training data\n",
    "TRAIN_DATA = [\n",
    "    (\"Homo sapiens is a species of primates.\", {\"entities\": [(0, 11, \"GENUS\"), (12, 18, \"SPECIES\"), (32, 39, \"FAMILY\"), (40, 47, \"ORDER\")]}),\n",
    "    (\"Canis lupus is a species of canine.\", {\"entities\": [(0, 5, \"GENUS\"), (6, 11, \"SPECIES\"), (25, 31, \"FAMILY\")]}),\n",
    "    (\"The Felidae family includes many species of cats.\", {\"entities\": [(4, 11, \"FAMILY\")]}),\n",
    "    (\"The Panthera genus includes lions and tigers.\", {\"entities\": [(4, 11, \"GENUS\"), (21, 26, \"SPECIES\"), (31, 37, \"SPECIES\")]}),\n",
    "]\n",
    "\n",
    "# Convert training data to Example objects\n",
    "train_examples = []\n",
    "labels = []\n",
    "for text, anns in TRAIN_DATA:\n",
    "    for start, end, label in anns['entities']:\n",
    "        if label not in labels:\n",
    "            labels.append(label)\n",
    "    example = Example.from_dict(nlp.make_doc(text),anns)\n",
    "    train_examples.append(example)\n",
    "\n",
    "# Add the NER labels to the model\n",
    "for label in labels:\n",
    "    ner.add_label(label)"
   ],
   "metadata": {
    "collapsed": false,
    "pycharm": {
     "name": "#%%\n"
    }
   }
  },
  {
   "cell_type": "code",
   "execution_count": 22,
   "outputs": [
    {
     "name": "stdout",
     "output_type": "stream",
     "text": [
      "Iteration 0: Loss=20.588891327381134\n",
      "Iteration 1: Loss=20.19592845439911\n",
      "Iteration 2: Loss=19.776997089385986\n",
      "Iteration 3: Loss=19.32099425792694\n",
      "Iteration 4: Loss=18.809664964675903\n",
      "Iteration 5: Loss=18.144729018211365\n",
      "Iteration 6: Loss=17.47956556081772\n",
      "Iteration 7: Loss=16.77994340658188\n",
      "Iteration 8: Loss=14.902659356594086\n",
      "Iteration 9: Loss=13.470107197761536\n",
      "Iteration 10: Loss=13.096961259841919\n",
      "Iteration 11: Loss=11.247962027788162\n",
      "Iteration 12: Loss=8.990310728549957\n",
      "Iteration 13: Loss=7.360689893364906\n",
      "Iteration 14: Loss=6.436672121286392\n",
      "Iteration 15: Loss=6.242825888097286\n",
      "Iteration 16: Loss=5.702791491523385\n",
      "Iteration 17: Loss=5.21747977938503\n",
      "Iteration 18: Loss=4.956456020125188\n",
      "Iteration 19: Loss=4.72588619651151\n",
      "Iteration 20: Loss=5.231876943318639\n",
      "Iteration 21: Loss=5.668231579074927\n",
      "Iteration 22: Loss=5.4027199214433494\n",
      "Iteration 23: Loss=5.188111403083894\n",
      "Iteration 24: Loss=4.983926041615632\n",
      "Iteration 25: Loss=4.178911379058263\n",
      "Iteration 26: Loss=5.127599981962703\n",
      "Iteration 27: Loss=4.887631749617867\n",
      "Iteration 28: Loss=4.248741262641488\n",
      "Iteration 29: Loss=3.1912793011870235\n",
      "Iteration 30: Loss=3.2521732073510066\n",
      "Iteration 31: Loss=3.849472335539758\n",
      "Iteration 32: Loss=4.69410973569029\n",
      "Iteration 33: Loss=3.164271180401556\n",
      "Iteration 34: Loss=2.9119411734864116\n",
      "Iteration 35: Loss=3.154556810390204\n",
      "Iteration 36: Loss=4.1404849835671484\n",
      "Iteration 37: Loss=2.8780633322894573\n",
      "Iteration 38: Loss=3.157071413472295\n",
      "Iteration 39: Loss=2.784899937454611\n",
      "Iteration 40: Loss=2.4155696753878146\n",
      "Iteration 41: Loss=3.4769078768440522\n",
      "Iteration 42: Loss=2.784887294163127\n",
      "Iteration 43: Loss=2.67454451966114\n",
      "Iteration 44: Loss=2.1498540989250614\n",
      "Iteration 45: Loss=2.380345827331439\n",
      "Iteration 46: Loss=2.676443902079768\n",
      "Iteration 47: Loss=2.011843120732692\n",
      "Iteration 48: Loss=2.074074177300645\n",
      "Iteration 49: Loss=1.7061169926082584\n",
      "Iteration 50: Loss=1.7843742985803601\n",
      "Iteration 51: Loss=1.9660924087883984\n",
      "Iteration 52: Loss=1.868799271567923\n",
      "Iteration 53: Loss=1.8418113123249107\n",
      "Iteration 54: Loss=0.7763785134180523\n",
      "Iteration 55: Loss=0.7318809551109382\n",
      "Iteration 56: Loss=0.691323829059229\n",
      "Iteration 57: Loss=2.5250205771749576\n",
      "Iteration 58: Loss=0.9434748221043066\n",
      "Iteration 59: Loss=0.6813696802933009\n",
      "Iteration 60: Loss=1.1500670645264108\n",
      "Iteration 61: Loss=0.6984746670913182\n",
      "Iteration 62: Loss=0.3641968751364679\n",
      "Iteration 63: Loss=0.7414912690138635\n",
      "Iteration 64: Loss=2.4639685394589375\n",
      "Iteration 65: Loss=0.24630411041324862\n",
      "Iteration 66: Loss=0.0787681662778259\n",
      "Iteration 67: Loss=0.37346950999443607\n",
      "Iteration 68: Loss=0.0853961976652319\n",
      "Iteration 69: Loss=0.2269203309186858\n",
      "Iteration 70: Loss=0.029374817597652113\n",
      "Iteration 71: Loss=0.576056855062669\n",
      "Iteration 72: Loss=0.008842742102835643\n",
      "Iteration 73: Loss=0.009189631680828888\n",
      "Iteration 74: Loss=1.2945852307510872\n",
      "Iteration 75: Loss=0.014023529701758575\n",
      "Iteration 76: Loss=0.8930331896968986\n",
      "Iteration 77: Loss=0.09427037002608907\n",
      "Iteration 78: Loss=0.00033569206079414604\n",
      "Iteration 79: Loss=0.0003116002074594615\n",
      "Iteration 80: Loss=0.003409871822771769\n",
      "Iteration 81: Loss=0.09862121532074968\n",
      "Iteration 82: Loss=0.01625034604886831\n",
      "Iteration 83: Loss=1.7762127463995898e-06\n",
      "Iteration 84: Loss=2.9028052397694535e-05\n",
      "Iteration 85: Loss=7.235469015629968e-05\n",
      "Iteration 86: Loss=0.00040074538731842255\n",
      "Iteration 87: Loss=0.0008489738192722689\n",
      "Iteration 88: Loss=0.21552475939740562\n",
      "Iteration 89: Loss=0.0003995254869611316\n",
      "Iteration 90: Loss=5.617881788290712e-08\n",
      "Iteration 91: Loss=4.93497789075934e-06\n",
      "Iteration 92: Loss=4.026452817263967e-05\n",
      "Iteration 93: Loss=0.00023320148199863108\n",
      "Iteration 94: Loss=6.095666704868904e-05\n",
      "Iteration 95: Loss=9.898953484842532e-06\n",
      "Iteration 96: Loss=0.009945470333009175\n",
      "Iteration 97: Loss=1.0491567457345692e-06\n",
      "Iteration 98: Loss=8.244167599268202e-05\n",
      "Iteration 99: Loss=1.203056609010222e-06\n"
     ]
    }
   ],
   "source": [
    "# Train the NER model\n",
    "n_iter = 100\n",
    "batch_size = 8\n",
    "ner_model.begin_training()\n",
    "for i in range(n_iter):\n",
    "    random.shuffle(train_examples)\n",
    "    batches = minibatch(train_examples, size=compounding(4.0, 32.0, 1.001))\n",
    "    losses = {}\n",
    "    for batch in batches:\n",
    "        ner_model.update(batch, losses=losses, drop=0.5)\n",
    "    print(f\"Iteration {i}: Loss={losses['ner']}\")\n",
    "\n",
    "# Save the models to the disk\n",
    "ner_model.to_disk('ner_based_on_scibert')\n",
    "nlp.to_disk('new_scibert')"
   ],
   "metadata": {
    "collapsed": false,
    "pycharm": {
     "name": "#%%\n"
    }
   }
  },
  {
   "cell_type": "code",
   "execution_count": 31,
   "outputs": [
    {
     "data": {
      "text/plain": "['GENUS', 'SPECIES', 'FAMILY', 'ORDER']"
     },
     "execution_count": 31,
     "metadata": {},
     "output_type": "execute_result"
    }
   ],
   "source": [
    "labels"
   ],
   "metadata": {
    "collapsed": false,
    "pycharm": {
     "name": "#%%\n"
    }
   }
  },
  {
   "cell_type": "code",
   "execution_count": 32,
   "outputs": [
    {
     "name": "stdout",
     "output_type": "stream",
     "text": [
      "Test text: \n",
      " The Felidae family includes many species of cats.\n"
     ]
    }
   ],
   "source": [
    "test_text, test_ann = TRAIN_DATA[2]\n",
    "\n",
    "print(f'Test text: \\n {test_text}')"
   ],
   "metadata": {
    "collapsed": false,
    "pycharm": {
     "name": "#%%\n"
    }
   }
  },
  {
   "cell_type": "code",
   "execution_count": 33,
   "outputs": [
    {
     "name": "stdout",
     "output_type": "stream",
     "text": [
      "Entities by SciBert [('Felidae', 'ENTITY'), ('family', 'ENTITY'), ('species', 'ENTITY'), ('cats', 'ENTITY')]\n"
     ]
    }
   ],
   "source": [
    "# Test the trained model\n",
    "doc_nlp = nlp(test_text)\n",
    "print(\"Entities by SciBert\", [(ent.text, ent.label_) for ent in doc_nlp.ents])"
   ],
   "metadata": {
    "collapsed": false,
    "pycharm": {
     "name": "#%%\n"
    }
   }
  },
  {
   "cell_type": "code",
   "execution_count": 34,
   "outputs": [
    {
     "name": "stdout",
     "output_type": "stream",
     "text": [
      "Entities by trained NER [('Felidae', 'FAMILY')]\n"
     ]
    }
   ],
   "source": [
    "doc_ner = ner_model(test_text)\n",
    "print(\"Entities by trained NER\", [(ent.text, ent.label_) for ent in doc_ner.ents])"
   ],
   "metadata": {
    "collapsed": false,
    "pycharm": {
     "name": "#%%\n"
    }
   }
  }
 ],
 "metadata": {
  "kernelspec": {
   "display_name": "Python 3",
   "language": "python",
   "name": "python3"
  },
  "language_info": {
   "codemirror_mode": {
    "name": "ipython",
    "version": 2
   },
   "file_extension": ".py",
   "mimetype": "text/x-python",
   "name": "python",
   "nbconvert_exporter": "python",
   "pygments_lexer": "ipython2",
   "version": "2.7.6"
  }
 },
 "nbformat": 4,
 "nbformat_minor": 0
}