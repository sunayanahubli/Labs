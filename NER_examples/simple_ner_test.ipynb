{
 "cells": [
  {
   "cell_type": "code",
   "execution_count": 12,
   "outputs": [],
   "source": [
    "import os\n",
    "os.environ[\"CUDA_VISIBLE_DEVICES\"] = \"7\"\n",
    "import warnings\n",
    "warnings.filterwarnings('ignore')\n",
    "\n",
    "import spacy"
   ],
   "metadata": {
    "collapsed": false,
    "pycharm": {
     "name": "#%%\n"
    }
   }
  },
  {
   "cell_type": "code",
   "execution_count": 13,
   "outputs": [],
   "source": [
    "bert_nlp = spacy.load('simple_ner_spacy/model-best')"
   ],
   "metadata": {
    "collapsed": false,
    "pycharm": {
     "name": "#%%\n"
    }
   }
  },
  {
   "cell_type": "code",
   "execution_count": 14,
   "outputs": [
    {
     "data": {
      "text/plain": "[('tok2vec', <spacy.pipeline.tok2vec.Tok2Vec at 0x7f6ee867ab20>),\n ('ner', <spacy.pipeline.ner.EntityRecognizer at 0x7f6ee867ef90>)]"
     },
     "execution_count": 14,
     "metadata": {},
     "output_type": "execute_result"
    }
   ],
   "source": [
    "bert_nlp.components"
   ],
   "metadata": {
    "collapsed": false,
    "pycharm": {
     "name": "#%%\n"
    }
   }
  },
  {
   "cell_type": "code",
   "execution_count": null,
   "outputs": [],
   "source": [
    "from spacy.tokens import DocBin\n",
    "\n",
    "doc_bin = DocBin().from_disk(\"corpus/train.spacy\")\n",
    "docs = list(doc_bin.get_docs(bert_nlp.vocab))\n",
    "docs[0].ents"
   ],
   "metadata": {
    "collapsed": false,
    "pycharm": {
     "name": "#%%\n",
     "is_executing": true
    }
   }
  },
  {
   "cell_type": "code",
   "execution_count": 8,
   "outputs": [
    {
     "data": {
      "text/plain": "(skin tumour,\n WNT,\n stimulus,\n LEF/TCF,\n MYC,\n WNT,\n cancer,\n cancers,\n adenomatous polyposis coli,\n APC,\n cancers,\n developing skin tumours,\n pilomatricomas,\n skin of,\n pilomatricomas,\n skin tumour,\n tumour,\n pilomatricomas,\n tumours,\n tumours)"
     },
     "execution_count": 8,
     "metadata": {},
     "output_type": "execute_result"
    }
   ],
   "source": [
    "doc_bert = bert_nlp(docs[0].text)\n",
    "doc_bert.ents"
   ],
   "metadata": {
    "collapsed": false,
    "pycharm": {
     "name": "#%%\n"
    }
   }
  },
  {
   "cell_type": "code",
   "execution_count": 10,
   "outputs": [
    {
     "data": {
      "text/plain": "(WNT, CTNNB1, the LEF/TCF, One, WNT, APC, LEF-1, At least 75%, CTNNB1)"
     },
     "execution_count": 10,
     "metadata": {},
     "output_type": "execute_result"
    }
   ],
   "source": [
    "nlp_lg = spacy.load('en_core_web_lg')\n",
    "doc_lg = nlp_lg(docs[0].text)\n",
    "doc_lg.ents"
   ],
   "metadata": {
    "collapsed": false,
    "pycharm": {
     "name": "#%%\n"
    }
   }
  },
  {
   "cell_type": "code",
   "execution_count": 11,
   "outputs": [
    {
     "data": {
      "text/plain": "[('tok2vec', <spacy.pipeline.tok2vec.Tok2Vec at 0x7f6efea74040>),\n ('tagger', <spacy.pipeline.tagger.Tagger at 0x7f6efeae7760>),\n ('parser', <spacy.pipeline.dep_parser.DependencyParser at 0x7f6efea6d3c0>),\n ('senter', <spacy.pipeline.senter.SentenceRecognizer at 0x7f6efeae7f40>),\n ('attribute_ruler',\n  <spacy.pipeline.attributeruler.AttributeRuler at 0x7f6efe8a5540>),\n ('lemmatizer',\n  <spacy.lang.en.lemmatizer.EnglishLemmatizer at 0x7f6efe833880>),\n ('ner', <spacy.pipeline.ner.EntityRecognizer at 0x7f6efea6d270>)]"
     },
     "execution_count": 11,
     "metadata": {},
     "output_type": "execute_result"
    }
   ],
   "source": [
    "nlp_lg.components"
   ],
   "metadata": {
    "collapsed": false,
    "pycharm": {
     "name": "#%%\n"
    }
   }
  },
  {
   "cell_type": "code",
   "execution_count": null,
   "outputs": [],
   "source": [],
   "metadata": {
    "collapsed": false,
    "pycharm": {
     "name": "#%%\n"
    }
   }
  }
 ],
 "metadata": {
  "kernelspec": {
   "display_name": "Python 3",
   "language": "python",
   "name": "python3"
  },
  "language_info": {
   "codemirror_mode": {
    "name": "ipython",
    "version": 2
   },
   "file_extension": ".py",
   "mimetype": "text/x-python",
   "name": "python",
   "nbconvert_exporter": "python",
   "pygments_lexer": "ipython2",
   "version": "2.7.6"
  }
 },
 "nbformat": 4,
 "nbformat_minor": 0
}