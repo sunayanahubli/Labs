{
 "metadata": {
  "language_info": {
   "codemirror_mode": {
    "name": "ipython",
    "version": 3
   },
   "file_extension": ".py",
   "mimetype": "text/x-python",
   "name": "python",
   "nbconvert_exporter": "python",
   "pygments_lexer": "ipython3",
   "version": "3.6.13-final"
  },
  "orig_nbformat": 2,
  "kernelspec": {
   "name": "python3",
   "display_name": "Python 3.6.13 64-bit ('NLP_36': conda)",
   "metadata": {
    "interpreter": {
     "hash": "4bdffe19da9c8a1c39e8928e0e974c8eaf7d6d2b9ea313bf1f779cb4c7db8119"
    }
   }
  }
 },
 "nbformat": 4,
 "nbformat_minor": 2,
 "cells": [
  {
   "cell_type": "code",
   "execution_count": 46,
   "metadata": {},
   "outputs": [],
   "source": [
    "ehr_note = '''\n",
    "Pt was unclear about how much or how to administer her medications. Subsequently pt was sent home w/VNA for assistance. Upon nurse arrival pt c/o being unsteady on her feet and she felt as though she had to hold on to ojects for often to ambulate.\n",
    "'''\n"
   ]
  },
  {
   "cell_type": "code",
   "execution_count": 47,
   "metadata": {},
   "outputs": [],
   "source": [
    "import spacy\n",
    "#Load language model for English\n",
    "nlp = spacy.load(\"en_core_web_sm\")\n",
    "\n",
    "doc = nlp(ehr_note)\n"
   ]
  },
  {
   "cell_type": "code",
   "execution_count": 48,
   "metadata": {},
   "outputs": [
    {
     "output_type": "stream",
     "name": "stdout",
     "text": [
      "0|1|\n\n1|14|Pt was unclear about how much or how to administer her medications.\n14|25|Subsequently pt was sent home w/VNA for assistance.\n25|55|Upon nurse arrival pt c/o being unsteady on her feet and she felt as though she had to hold on to ojects for often to ambulate.\n\n"
     ]
    }
   ],
   "source": [
    "for sent in doc.sents:\n",
    "    print(f'{sent.start}|{sent.end}|{sent.text}')"
   ]
  },
  {
   "cell_type": "code",
   "execution_count": 49,
   "metadata": {},
   "outputs": [
    {
     "output_type": "stream",
     "name": "stdout",
     "text": [
      "\n\t0\t\n\tFalse\tFalse\nPt\t1\tpt\tFalse\tFalse\nwas\t2\twas\tFalse\tTrue\nunclear\t3\tunclear\tFalse\tFalse\nabout\t4\tabout\tFalse\tTrue\nhow\t5\thow\tFalse\tTrue\nmuch\t6\tmuch\tFalse\tTrue\nor\t7\tor\tFalse\tTrue\nhow\t8\thow\tFalse\tTrue\nto\t9\tto\tFalse\tTrue\nadminister\t10\tadminister\tFalse\tFalse\nher\t11\ther\tFalse\tTrue\nmedications\t12\tmedications\tFalse\tFalse\n.\t13\t.\tTrue\tFalse\nSubsequently\t14\tsubsequently\tFalse\tFalse\npt\t15\tpt\tFalse\tFalse\nwas\t16\twas\tFalse\tTrue\nsent\t17\tsent\tFalse\tFalse\nhome\t18\thome\tFalse\tFalse\nw\t19\tw\tFalse\tFalse\n/\t20\t/\tTrue\tFalse\nVNA\t21\tvna\tFalse\tFalse\nfor\t22\tfor\tFalse\tTrue\nassistance\t23\tassistance\tFalse\tFalse\n.\t24\t.\tTrue\tFalse\nUpon\t25\tupon\tFalse\tTrue\nnurse\t26\tnurse\tFalse\tFalse\narrival\t27\tarrival\tFalse\tFalse\npt\t28\tpt\tFalse\tFalse\nc\t29\tc\tFalse\tFalse\n/\t30\t/\tTrue\tFalse\no\t31\to\tFalse\tFalse\nbeing\t32\tbeing\tFalse\tTrue\nunsteady\t33\tunsteady\tFalse\tFalse\non\t34\ton\tFalse\tTrue\nher\t35\ther\tFalse\tTrue\nfeet\t36\tfeet\tFalse\tFalse\nand\t37\tand\tFalse\tTrue\nshe\t38\tshe\tFalse\tTrue\nfelt\t39\tfelt\tFalse\tFalse\nas\t40\tas\tFalse\tTrue\nthough\t41\tthough\tFalse\tTrue\nshe\t42\tshe\tFalse\tTrue\nhad\t43\thad\tFalse\tTrue\nto\t44\tto\tFalse\tTrue\nhold\t45\thold\tFalse\tFalse\non\t46\ton\tFalse\tTrue\nto\t47\tto\tFalse\tTrue\nojects\t48\tojects\tFalse\tFalse\nfor\t49\tfor\tFalse\tTrue\noften\t50\toften\tFalse\tTrue\nto\t51\tto\tFalse\tTrue\nambulate\t52\tambulate\tFalse\tFalse\n.\t53\t.\tTrue\tFalse\n\n\t54\t\n\tFalse\tFalse\n"
     ]
    }
   ],
   "source": [
    "for token in doc:\n",
    "    print(f'{token.text}\\t{token.i}\\t{token.norm_}\\t{token.is_punct}\\t{token.is_stop}')"
   ]
  },
  {
   "cell_type": "code",
   "execution_count": 50,
   "metadata": {},
   "outputs": [
    {
     "output_type": "stream",
     "name": "stdout",
     "text": [
      "\n\tSPACE\t_SP\tROOT\t\n\nPt\tPROPN\tNNP\tnsubj\twas\nwas\tAUX\tVBD\tROOT\twas\nunclear\tADJ\tJJ\tacomp\twas\nabout\tADP\tIN\tprep\twas\nhow\tADV\tWRB\tadvmod\tmuch\nmuch\tADJ\tJJ\tadvmod\tadminister\nor\tCCONJ\tCC\tcc\tmuch\nhow\tADV\tWRB\tconj\tmuch\nto\tPART\tTO\taux\tadminister\nadminister\tVERB\tVB\tpcomp\tabout\nher\tPRON\tPRP$\tposs\tmedications\nmedications\tNOUN\tNNS\tdobj\tadminister\n.\tPUNCT\t.\tpunct\twas\nSubsequently\tADV\tRB\tadvmod\tsent\npt\tNOUN\tNN\tnsubjpass\tsent\nwas\tAUX\tVBD\tauxpass\tsent\nsent\tVERB\tVBN\tROOT\tsent\nhome\tADV\tRB\tadvmod\tsent\nw\tADP\tIN\tprep\tsent\n/\tSYM\tSYM\tpunct\tw\nVNA\tPROPN\tNNP\tpobj\tw\nfor\tADP\tIN\tprep\tsent\nassistance\tNOUN\tNN\tpobj\tfor\n.\tPUNCT\t.\tpunct\tsent\nUpon\tSCONJ\tIN\tROOT\tUpon\nnurse\tNOUN\tNN\tcompound\tarrival\narrival\tNOUN\tNN\tcompound\tpt\npt\tNOUN\tNN\tpobj\tUpon\nc\tX\tLS\tpcomp\tUpon\n/\tSYM\tSYM\tpunct\tc\no\tNOUN\tNN\tnsubj\tbeing\nbeing\tVERB\tVBG\tpcomp\tUpon\nunsteady\tADJ\tJJ\tacomp\tbeing\non\tADP\tIN\tprep\tbeing\nher\tPRON\tPRP$\tposs\tfeet\nfeet\tNOUN\tNNS\tpobj\ton\nand\tCCONJ\tCC\tcc\tUpon\nshe\tPRON\tPRP\tnsubj\tfelt\nfelt\tVERB\tVBD\tconj\tUpon\nas\tADP\tIN\tmark\thad\nthough\tSCONJ\tIN\tmark\thad\nshe\tPRON\tPRP\tnsubj\thad\nhad\tVERB\tVBD\tadvcl\tfelt\nto\tPART\tTO\taux\thold\nhold\tVERB\tVB\txcomp\thad\non\tADP\tRP\tprt\thold\nto\tADP\tIN\tprep\thold\nojects\tNOUN\tNNS\tpobj\tto\nfor\tADP\tIN\tprep\tojects\noften\tADV\tRB\tadvmod\tambulate\nto\tPART\tTO\taux\tambulate\nambulate\tVERB\tVB\tpcomp\tfor\n.\tPUNCT\t.\tpunct\tfelt\n\n\tSPACE\t_SP\tpunct\tfelt\n"
     ]
    }
   ],
   "source": [
    "for token in doc:\n",
    "    print(f'{token.text}\\t{token.pos_}\\t{token.tag_}\\t{token.dep_}\\t{token.head.text}')"
   ]
  },
  {
   "cell_type": "code",
   "execution_count": 44,
   "metadata": {},
   "outputs": [
    {
     "output_type": "display_data",
     "data": {
      "text/plain": "<IPython.core.display.HTML object>",
      "text/html": "<span class=\"tex2jax_ignore\"><svg xmlns=\"http://www.w3.org/2000/svg\" xmlns:xlink=\"http://www.w3.org/1999/xlink\" xml:lang=\"en\" id=\"c0711b03c0ad4237a8b661b5c5343c1b-0\" class=\"displacy\" width=\"1730\" height=\"417.0\" direction=\"ltr\" style=\"max-width: none; height: 417.0px; color: #000000; background: #ffffff; font-family: Arial; direction: ltr\">\n<text class=\"displacy-token\" fill=\"currentColor\" text-anchor=\"middle\" y=\"327.0\">\n    <tspan class=\"displacy-word\" fill=\"currentColor\" x=\"50\">Pt</tspan>\n    <tspan class=\"displacy-tag\" dy=\"2em\" fill=\"currentColor\" x=\"50\">PROPN</tspan>\n</text>\n\n<text class=\"displacy-token\" fill=\"currentColor\" text-anchor=\"middle\" y=\"327.0\">\n    <tspan class=\"displacy-word\" fill=\"currentColor\" x=\"190\">was</tspan>\n    <tspan class=\"displacy-tag\" dy=\"2em\" fill=\"currentColor\" x=\"190\">AUX</tspan>\n</text>\n\n<text class=\"displacy-token\" fill=\"currentColor\" text-anchor=\"middle\" y=\"327.0\">\n    <tspan class=\"displacy-word\" fill=\"currentColor\" x=\"330\">unclear</tspan>\n    <tspan class=\"displacy-tag\" dy=\"2em\" fill=\"currentColor\" x=\"330\">ADJ</tspan>\n</text>\n\n<text class=\"displacy-token\" fill=\"currentColor\" text-anchor=\"middle\" y=\"327.0\">\n    <tspan class=\"displacy-word\" fill=\"currentColor\" x=\"470\">about</tspan>\n    <tspan class=\"displacy-tag\" dy=\"2em\" fill=\"currentColor\" x=\"470\">ADP</tspan>\n</text>\n\n<text class=\"displacy-token\" fill=\"currentColor\" text-anchor=\"middle\" y=\"327.0\">\n    <tspan class=\"displacy-word\" fill=\"currentColor\" x=\"610\">how</tspan>\n    <tspan class=\"displacy-tag\" dy=\"2em\" fill=\"currentColor\" x=\"610\">ADV</tspan>\n</text>\n\n<text class=\"displacy-token\" fill=\"currentColor\" text-anchor=\"middle\" y=\"327.0\">\n    <tspan class=\"displacy-word\" fill=\"currentColor\" x=\"750\">much</tspan>\n    <tspan class=\"displacy-tag\" dy=\"2em\" fill=\"currentColor\" x=\"750\">ADJ</tspan>\n</text>\n\n<text class=\"displacy-token\" fill=\"currentColor\" text-anchor=\"middle\" y=\"327.0\">\n    <tspan class=\"displacy-word\" fill=\"currentColor\" x=\"890\">or</tspan>\n    <tspan class=\"displacy-tag\" dy=\"2em\" fill=\"currentColor\" x=\"890\">CCONJ</tspan>\n</text>\n\n<text class=\"displacy-token\" fill=\"currentColor\" text-anchor=\"middle\" y=\"327.0\">\n    <tspan class=\"displacy-word\" fill=\"currentColor\" x=\"1030\">how</tspan>\n    <tspan class=\"displacy-tag\" dy=\"2em\" fill=\"currentColor\" x=\"1030\">ADV</tspan>\n</text>\n\n<text class=\"displacy-token\" fill=\"currentColor\" text-anchor=\"middle\" y=\"327.0\">\n    <tspan class=\"displacy-word\" fill=\"currentColor\" x=\"1170\">to</tspan>\n    <tspan class=\"displacy-tag\" dy=\"2em\" fill=\"currentColor\" x=\"1170\">PART</tspan>\n</text>\n\n<text class=\"displacy-token\" fill=\"currentColor\" text-anchor=\"middle\" y=\"327.0\">\n    <tspan class=\"displacy-word\" fill=\"currentColor\" x=\"1310\">administer</tspan>\n    <tspan class=\"displacy-tag\" dy=\"2em\" fill=\"currentColor\" x=\"1310\">VERB</tspan>\n</text>\n\n<text class=\"displacy-token\" fill=\"currentColor\" text-anchor=\"middle\" y=\"327.0\">\n    <tspan class=\"displacy-word\" fill=\"currentColor\" x=\"1450\">her</tspan>\n    <tspan class=\"displacy-tag\" dy=\"2em\" fill=\"currentColor\" x=\"1450\">PRON</tspan>\n</text>\n\n<text class=\"displacy-token\" fill=\"currentColor\" text-anchor=\"middle\" y=\"327.0\">\n    <tspan class=\"displacy-word\" fill=\"currentColor\" x=\"1590\">medications.</tspan>\n    <tspan class=\"displacy-tag\" dy=\"2em\" fill=\"currentColor\" x=\"1590\">NOUN</tspan>\n</text>\n\n<g class=\"displacy-arrow\">\n    <path class=\"displacy-arc\" id=\"arrow-c0711b03c0ad4237a8b661b5c5343c1b-0-0\" stroke-width=\"2px\" d=\"M70,282.0 C70,212.0 175.0,212.0 175.0,282.0\" fill=\"none\" stroke=\"currentColor\"/>\n    <text dy=\"1.25em\" style=\"font-size: 0.8em; letter-spacing: 1px\">\n        <textPath xlink:href=\"#arrow-c0711b03c0ad4237a8b661b5c5343c1b-0-0\" class=\"displacy-label\" startOffset=\"50%\" side=\"left\" fill=\"currentColor\" text-anchor=\"middle\">nsubj</textPath>\n    </text>\n    <path class=\"displacy-arrowhead\" d=\"M70,284.0 L62,272.0 78,272.0\" fill=\"currentColor\"/>\n</g>\n\n<g class=\"displacy-arrow\">\n    <path class=\"displacy-arc\" id=\"arrow-c0711b03c0ad4237a8b661b5c5343c1b-0-1\" stroke-width=\"2px\" d=\"M210,282.0 C210,212.0 315.0,212.0 315.0,282.0\" fill=\"none\" stroke=\"currentColor\"/>\n    <text dy=\"1.25em\" style=\"font-size: 0.8em; letter-spacing: 1px\">\n        <textPath xlink:href=\"#arrow-c0711b03c0ad4237a8b661b5c5343c1b-0-1\" class=\"displacy-label\" startOffset=\"50%\" side=\"left\" fill=\"currentColor\" text-anchor=\"middle\">acomp</textPath>\n    </text>\n    <path class=\"displacy-arrowhead\" d=\"M315.0,284.0 L323.0,272.0 307.0,272.0\" fill=\"currentColor\"/>\n</g>\n\n<g class=\"displacy-arrow\">\n    <path class=\"displacy-arc\" id=\"arrow-c0711b03c0ad4237a8b661b5c5343c1b-0-2\" stroke-width=\"2px\" d=\"M350,282.0 C350,212.0 455.0,212.0 455.0,282.0\" fill=\"none\" stroke=\"currentColor\"/>\n    <text dy=\"1.25em\" style=\"font-size: 0.8em; letter-spacing: 1px\">\n        <textPath xlink:href=\"#arrow-c0711b03c0ad4237a8b661b5c5343c1b-0-2\" class=\"displacy-label\" startOffset=\"50%\" side=\"left\" fill=\"currentColor\" text-anchor=\"middle\">prep</textPath>\n    </text>\n    <path class=\"displacy-arrowhead\" d=\"M455.0,284.0 L463.0,272.0 447.0,272.0\" fill=\"currentColor\"/>\n</g>\n\n<g class=\"displacy-arrow\">\n    <path class=\"displacy-arc\" id=\"arrow-c0711b03c0ad4237a8b661b5c5343c1b-0-3\" stroke-width=\"2px\" d=\"M630,282.0 C630,212.0 735.0,212.0 735.0,282.0\" fill=\"none\" stroke=\"currentColor\"/>\n    <text dy=\"1.25em\" style=\"font-size: 0.8em; letter-spacing: 1px\">\n        <textPath xlink:href=\"#arrow-c0711b03c0ad4237a8b661b5c5343c1b-0-3\" class=\"displacy-label\" startOffset=\"50%\" side=\"left\" fill=\"currentColor\" text-anchor=\"middle\">advmod</textPath>\n    </text>\n    <path class=\"displacy-arrowhead\" d=\"M630,284.0 L622,272.0 638,272.0\" fill=\"currentColor\"/>\n</g>\n\n<g class=\"displacy-arrow\">\n    <path class=\"displacy-arc\" id=\"arrow-c0711b03c0ad4237a8b661b5c5343c1b-0-4\" stroke-width=\"2px\" d=\"M770,282.0 C770,72.0 1305.0,72.0 1305.0,282.0\" fill=\"none\" stroke=\"currentColor\"/>\n    <text dy=\"1.25em\" style=\"font-size: 0.8em; letter-spacing: 1px\">\n        <textPath xlink:href=\"#arrow-c0711b03c0ad4237a8b661b5c5343c1b-0-4\" class=\"displacy-label\" startOffset=\"50%\" side=\"left\" fill=\"currentColor\" text-anchor=\"middle\">advmod</textPath>\n    </text>\n    <path class=\"displacy-arrowhead\" d=\"M770,284.0 L762,272.0 778,272.0\" fill=\"currentColor\"/>\n</g>\n\n<g class=\"displacy-arrow\">\n    <path class=\"displacy-arc\" id=\"arrow-c0711b03c0ad4237a8b661b5c5343c1b-0-5\" stroke-width=\"2px\" d=\"M770,282.0 C770,212.0 875.0,212.0 875.0,282.0\" fill=\"none\" stroke=\"currentColor\"/>\n    <text dy=\"1.25em\" style=\"font-size: 0.8em; letter-spacing: 1px\">\n        <textPath xlink:href=\"#arrow-c0711b03c0ad4237a8b661b5c5343c1b-0-5\" class=\"displacy-label\" startOffset=\"50%\" side=\"left\" fill=\"currentColor\" text-anchor=\"middle\">cc</textPath>\n    </text>\n    <path class=\"displacy-arrowhead\" d=\"M875.0,284.0 L883.0,272.0 867.0,272.0\" fill=\"currentColor\"/>\n</g>\n\n<g class=\"displacy-arrow\">\n    <path class=\"displacy-arc\" id=\"arrow-c0711b03c0ad4237a8b661b5c5343c1b-0-6\" stroke-width=\"2px\" d=\"M770,282.0 C770,142.0 1020.0,142.0 1020.0,282.0\" fill=\"none\" stroke=\"currentColor\"/>\n    <text dy=\"1.25em\" style=\"font-size: 0.8em; letter-spacing: 1px\">\n        <textPath xlink:href=\"#arrow-c0711b03c0ad4237a8b661b5c5343c1b-0-6\" class=\"displacy-label\" startOffset=\"50%\" side=\"left\" fill=\"currentColor\" text-anchor=\"middle\">conj</textPath>\n    </text>\n    <path class=\"displacy-arrowhead\" d=\"M1020.0,284.0 L1028.0,272.0 1012.0,272.0\" fill=\"currentColor\"/>\n</g>\n\n<g class=\"displacy-arrow\">\n    <path class=\"displacy-arc\" id=\"arrow-c0711b03c0ad4237a8b661b5c5343c1b-0-7\" stroke-width=\"2px\" d=\"M1190,282.0 C1190,212.0 1295.0,212.0 1295.0,282.0\" fill=\"none\" stroke=\"currentColor\"/>\n    <text dy=\"1.25em\" style=\"font-size: 0.8em; letter-spacing: 1px\">\n        <textPath xlink:href=\"#arrow-c0711b03c0ad4237a8b661b5c5343c1b-0-7\" class=\"displacy-label\" startOffset=\"50%\" side=\"left\" fill=\"currentColor\" text-anchor=\"middle\">aux</textPath>\n    </text>\n    <path class=\"displacy-arrowhead\" d=\"M1190,284.0 L1182,272.0 1198,272.0\" fill=\"currentColor\"/>\n</g>\n\n<g class=\"displacy-arrow\">\n    <path class=\"displacy-arc\" id=\"arrow-c0711b03c0ad4237a8b661b5c5343c1b-0-8\" stroke-width=\"2px\" d=\"M490,282.0 C490,2.0 1310.0,2.0 1310.0,282.0\" fill=\"none\" stroke=\"currentColor\"/>\n    <text dy=\"1.25em\" style=\"font-size: 0.8em; letter-spacing: 1px\">\n        <textPath xlink:href=\"#arrow-c0711b03c0ad4237a8b661b5c5343c1b-0-8\" class=\"displacy-label\" startOffset=\"50%\" side=\"left\" fill=\"currentColor\" text-anchor=\"middle\">pcomp</textPath>\n    </text>\n    <path class=\"displacy-arrowhead\" d=\"M1310.0,284.0 L1318.0,272.0 1302.0,272.0\" fill=\"currentColor\"/>\n</g>\n\n<g class=\"displacy-arrow\">\n    <path class=\"displacy-arc\" id=\"arrow-c0711b03c0ad4237a8b661b5c5343c1b-0-9\" stroke-width=\"2px\" d=\"M1470,282.0 C1470,212.0 1575.0,212.0 1575.0,282.0\" fill=\"none\" stroke=\"currentColor\"/>\n    <text dy=\"1.25em\" style=\"font-size: 0.8em; letter-spacing: 1px\">\n        <textPath xlink:href=\"#arrow-c0711b03c0ad4237a8b661b5c5343c1b-0-9\" class=\"displacy-label\" startOffset=\"50%\" side=\"left\" fill=\"currentColor\" text-anchor=\"middle\">poss</textPath>\n    </text>\n    <path class=\"displacy-arrowhead\" d=\"M1470,284.0 L1462,272.0 1478,272.0\" fill=\"currentColor\"/>\n</g>\n\n<g class=\"displacy-arrow\">\n    <path class=\"displacy-arc\" id=\"arrow-c0711b03c0ad4237a8b661b5c5343c1b-0-10\" stroke-width=\"2px\" d=\"M1330,282.0 C1330,142.0 1580.0,142.0 1580.0,282.0\" fill=\"none\" stroke=\"currentColor\"/>\n    <text dy=\"1.25em\" style=\"font-size: 0.8em; letter-spacing: 1px\">\n        <textPath xlink:href=\"#arrow-c0711b03c0ad4237a8b661b5c5343c1b-0-10\" class=\"displacy-label\" startOffset=\"50%\" side=\"left\" fill=\"currentColor\" text-anchor=\"middle\">dobj</textPath>\n    </text>\n    <path class=\"displacy-arrowhead\" d=\"M1580.0,284.0 L1588.0,272.0 1572.0,272.0\" fill=\"currentColor\"/>\n</g>\n</svg></span>"
     },
     "metadata": {}
    }
   ],
   "source": [
    "from spacy import displacy\n",
    "sent = 'Pt was unclear about how much or how to administer her medications.'\n",
    "sent_doc = nlp(sent)\n",
    "displacy.render(sent_doc, style=\"dep\", jupyter=True, options={'distance': 140})\n"
   ]
  },
  {
   "cell_type": "code",
   "execution_count": 53,
   "metadata": {},
   "outputs": [
    {
     "output_type": "stream",
     "name": "stdout",
     "text": [
      "medications administer\n"
     ]
    }
   ],
   "source": [
    "for token in sent_doc:\n",
    "    if token.pos_ == 'NOUN':\n",
    "        if token.head and token.head.pos_ == 'VERB':\n",
    "            print (token, token.head.text)\n"
   ]
  },
  {
   "cell_type": "code",
   "execution_count": 37,
   "metadata": {},
   "outputs": [
    {
     "output_type": "stream",
     "name": "stdout",
     "text": [
      "Autonomous amod cars NOUN []\ncars nsubj shift VERB [Autonomous]\nshift ROOT shift VERB [cars, liability, toward]\ninsurance compound liability NOUN []\nliability dobj shift VERB [insurance]\ntoward prep shift VERB [manufacturers]\nmanufacturers pobj toward ADP []\n"
     ]
    }
   ],
   "source": [
    "doc = nlp(\"Autonomous cars shift insurance liability toward manufacturers\")\n",
    "for token in doc:\n",
    "    print(token.text, token.dep_, token.head.text, token.head.pos_,\n",
    "            [child for child in token.children])"
   ]
  },
  {
   "cell_type": "code",
   "execution_count": 20,
   "metadata": {},
   "outputs": [
    {
     "output_type": "stream",
     "name": "stdout",
     "text": [
      "Washington 46 56 GPE\nApril 1st 60 69 DATE\n"
     ]
    },
    {
     "output_type": "display_data",
     "data": {
      "text/plain": "<IPython.core.display.HTML object>",
      "text/html": "<span class=\"tex2jax_ignore\"><div class=\"entities\" style=\"line-height: 2.5; direction: ltr\">The patient is scheduled to have a surgery in \n<mark class=\"entity\" style=\"background: #feca74; padding: 0.45em 0.6em; margin: 0 0.25em; line-height: 1; border-radius: 0.35em;\">\n    Washington\n    <span style=\"font-size: 0.8em; font-weight: bold; line-height: 1; border-radius: 0.35em; vertical-align: middle; margin-left: 0.5rem\">GPE</span>\n</mark>\n on \n<mark class=\"entity\" style=\"background: #bfe1d9; padding: 0.45em 0.6em; margin: 0 0.25em; line-height: 1; border-radius: 0.35em;\">\n    April 1st\n    <span style=\"font-size: 0.8em; font-weight: bold; line-height: 1; border-radius: 0.35em; vertical-align: middle; margin-left: 0.5rem\">DATE</span>\n</mark>\n.</div></span>"
     },
     "metadata": {}
    }
   ],
   "source": [
    "from spacy import displacy\n",
    "ent_doc = nlp(\"The patient is scheduled to have a surgery in Washington on April 1st.\")\n",
    "for ent in ent_doc.ents:\n",
    "    print(ent.text, ent.start_char, ent.end_char, ent.label_)\n",
    "displacy.render(ent_doc, style=\"ent\")"
   ]
  },
  {
   "cell_type": "code",
   "execution_count": 21,
   "metadata": {},
   "outputs": [
    {
     "output_type": "display_data",
     "data": {
      "text/plain": "<IPython.core.display.HTML object>",
      "text/html": "<span class=\"tex2jax_ignore\"><div class=\"entities\" style=\"line-height: 2.5; direction: ltr\">The patient is scheduled to have a \n<mark class=\"entity\" style=\"background: #ddd; padding: 0.45em 0.6em; margin: 0 0.25em; line-height: 1; border-radius: 0.35em;\">\n    surgery\n    <span style=\"font-size: 0.8em; font-weight: bold; line-height: 1; border-radius: 0.35em; vertical-align: middle; margin-left: 0.5rem\">MED</span>\n</mark>\n in \n<mark class=\"entity\" style=\"background: #feca74; padding: 0.45em 0.6em; margin: 0 0.25em; line-height: 1; border-radius: 0.35em;\">\n    Washington\n    <span style=\"font-size: 0.8em; font-weight: bold; line-height: 1; border-radius: 0.35em; vertical-align: middle; margin-left: 0.5rem\">GPE</span>\n</mark>\n on \n<mark class=\"entity\" style=\"background: #bfe1d9; padding: 0.45em 0.6em; margin: 0 0.25em; line-height: 1; border-radius: 0.35em;\">\n    April 1st\n    <span style=\"font-size: 0.8em; font-weight: bold; line-height: 1; border-radius: 0.35em; vertical-align: middle; margin-left: 0.5rem\">DATE</span>\n</mark>\n.</div></span>"
     },
     "metadata": {}
    }
   ],
   "source": [
    "from spacy.tokens import Span\n",
    "med_ent = Span(ent_doc, 7, 8, label=\"MED\")\n",
    "ent_doc.ents = list(ent_doc.ents) + [med_ent]\n",
    "displacy.render(ent_doc, style=\"ent\")"
   ]
  },
  {
   "cell_type": "code",
   "execution_count": 8,
   "metadata": {},
   "outputs": [
    {
     "output_type": "stream",
     "name": "stdout",
     "text": [
      "Doc vector: [-5.58872111e-02  1.83637068e-01 -1.03987619e-01  1.68814361e-02\n  9.99611169e-02 -2.14899823e-01  6.21551462e-02 -1.43377706e-01\n  1.64840922e-01  1.99562728e+00 -3.64684671e-01  8.60608593e-02\n  6.63397163e-02 -2.37806272e-02 -1.85525641e-01 -6.44071773e-03\n  2.93494221e-02  1.26250291e+00 -1.18318364e-01 -1.97022893e-02\n -5.29513648e-03 -5.11269234e-02 -9.90702137e-02 -9.87512060e-03\n  1.19224429e-01  3.99367101e-02  1.78003742e-03 -2.06177142e-02\n -1.15790125e-02  1.83079503e-02 -7.72859007e-02 -1.28463674e-02\n  1.37750000e-01  7.40341395e-02  9.05299261e-02  3.58632095e-02\n  6.90234974e-02  9.46645625e-03 -1.12282321e-01 -1.10941634e-01\n  2.89363600e-02  1.56441569e-01  1.02705015e-02 -1.17044397e-01\n  2.58911401e-02  6.08540960e-02 -1.16609149e-01 -4.73198630e-02\n  5.19033596e-02  3.84427123e-02 -2.21074242e-02  5.71318492e-02\n  8.03268552e-02 -1.18998647e-01  3.40969302e-02  3.35332826e-02\n  2.27505006e-02  1.02460003e-02 -4.69091907e-02 -9.94339436e-02\n -9.92697999e-02  7.00035253e-06  1.91682149e-02  1.70566067e-01\n  8.53584260e-02 -3.22300149e-03 -2.55571436e-02  1.71357184e-03\n  1.60292850e-03  1.10342212e-01 -1.94276441e-02 -2.28938609e-02\n  1.02226548e-01 -1.16064437e-01  2.82694429e-01 -2.75800955e-02\n  1.55267213e-02 -6.63072839e-02 -9.78716984e-02  2.40364999e-01\n  6.31378666e-02  1.65043220e-01 -1.23975076e-01  1.30330771e-01\n -1.84379313e-02 -2.18837261e-01  1.64899081e-01 -6.91738576e-02\n  8.01982358e-02  4.59207175e-03 -6.11421466e-02  1.89062171e-02\n -1.23117372e-01 -1.39446348e-01  7.94933885e-02 -1.15014926e-01\n  7.31625706e-02 -4.10241410e-02 -1.98948588e-02  1.64707880e-02\n -5.69717214e-02 -1.47352153e-02 -4.14926037e-02 -5.55711389e-02\n  1.21720791e-01 -4.87700194e-01  8.86085033e-02 -2.24039983e-02\n  6.68509305e-02  7.03271246e-03  4.93740700e-02 -4.65324931e-02\n  9.22382101e-02 -9.30891410e-02 -2.97727156e-02  4.83830906e-02\n  1.30438432e-01  6.97762147e-02 -4.16634753e-02 -2.42590737e-02\n  1.51125073e-01  3.08819227e-02  4.47508274e-03 -2.16829096e-04\n  5.48043428e-03  9.60521586e-03 -6.62157172e-03 -3.90786119e-02\n  2.09432449e-02  1.26212155e-02  7.66224265e-02 -1.98493272e-01\n -2.04813629e-01  7.75826424e-02  8.57185125e-02 -5.55070229e-02\n -9.36748181e-03  1.70911402e-02  1.30568007e-02 -2.10666414e-02\n -8.46257865e-01 -5.26935086e-02  1.02388933e-01  5.92192188e-02\n  7.14166090e-02  3.04073561e-02 -8.46505091e-02  2.06166413e-02\n  1.00757703e-01 -8.75673816e-02 -8.10732171e-02 -6.79919943e-02\n  7.19596893e-02  5.29271690e-03 -9.19026658e-02  7.54285837e-03\n -7.86231384e-02  3.99712846e-02 -8.83396938e-02 -6.22012876e-02\n  1.48315921e-01  1.69295687e-02  5.42657077e-03 -1.08720429e-01\n -1.80401020e-02 -4.93499935e-02  3.53590026e-02  1.66730076e-01\n  1.34975225e-01  6.06930032e-02  4.12176438e-02 -1.35063931e-01\n  1.17032165e-02  2.95352098e-02 -5.05169556e-02  1.84013501e-01\n -6.33378476e-02  4.17046212e-02  1.29276648e-01  2.03568578e-01\n -8.41544271e-02  5.04036434e-02 -1.12921573e-01 -1.24037787e-01\n  2.30341405e-02  8.71811586e-04 -1.92651451e-02 -5.75619265e-02\n -9.19483677e-02 -8.94548669e-02 -9.38364267e-02 -3.71471420e-02\n -4.88281325e-02  6.41676411e-02 -6.62419945e-03  2.75808632e-01\n -7.91357015e-04 -8.32721405e-03 -6.81232885e-02  4.64332886e-02\n  1.34692772e-03 -8.66278186e-02 -1.14807859e-01  1.67029593e-02\n  1.67034775e-01 -3.85689996e-02 -1.84855014e-02  9.74185485e-03\n -9.39527899e-02  1.37780145e-01 -8.63012820e-02  6.23071454e-02\n -7.90402219e-02 -1.60826832e-01 -1.07236370e-01  1.55467287e-01\n -1.17471434e-01 -8.76849703e-03 -5.25442772e-02 -4.99567799e-02\n -2.22407607e-03 -1.08592384e-01 -1.96329638e-01 -5.14870025e-02\n -1.23592071e-01 -3.45420092e-03 -3.88619974e-02  1.54583663e-01\n  1.01556860e-01 -4.13197605e-03 -2.83150692e-02  1.22375764e-01\n  1.39479950e-01 -1.85105670e-02 -2.54282504e-01 -1.80466861e-01\n -3.70395705e-02 -1.01067357e-01 -3.94399241e-02 -5.69302365e-02\n -9.87007022e-02  2.28293687e-02  1.04239367e-01  1.25937358e-01\n  1.62766144e-01 -1.41088992e-01  3.50175723e-02 -4.97135741e-04\n -2.36623064e-01 -9.98799130e-02  9.63935535e-03 -1.31153852e-01\n  5.36525138e-02 -5.18389232e-02  2.87191737e-02  1.18530713e-01\n  5.04227951e-02 -1.00633219e-01 -3.75893638e-02 -8.37243646e-02\n  3.18181403e-02  6.07003607e-02  7.00305030e-02  1.60078574e-02\n  1.09799281e-01 -1.65047422e-01 -2.56484281e-02  3.64306867e-02\n  6.15621917e-02 -4.29089926e-02  5.23828529e-02 -7.41832182e-02\n -1.87971354e-01  6.36669397e-02 -4.66130041e-02  3.50214122e-03\n -3.52749974e-03  2.01618634e-02 -7.92593509e-03  2.56124258e-01\n  2.88335055e-01 -1.47798228e-05 -8.82099196e-02  5.69734983e-02\n -9.35827848e-03 -1.07348509e-01 -4.74540703e-02 -2.52611991e-02\n  1.68897286e-01  1.56767502e-01  6.39271364e-02  5.49386032e-02\n -3.31380740e-02 -7.19487667e-02  9.87530723e-02 -6.99390620e-02\n  1.10487919e-02  5.54432198e-02 -2.39289273e-02  1.73149705e-01]\n[patient] vector: [-3.6578e-01  3.9335e-01 -7.4142e-01  5.3873e-01 -5.0295e-01 -8.3139e-01\n -3.3957e-01 -4.8100e-01  5.2408e-01  2.6943e+00  2.4359e-01  6.1131e-01\n  1.7085e-01  1.1928e-01  1.5291e-01 -3.4291e-03  4.2744e-01  2.2688e+00\n -2.1429e-01 -1.2722e-01 -2.4526e-01  2.3168e-01 -1.0916e+00 -2.1422e-01\n  7.1146e-01  3.4768e-01  7.2312e-01 -1.5167e-01  6.2653e-01 -3.1133e-01\n -2.8214e-01 -4.4632e-01  3.8671e-01 -3.6080e-01  3.2851e-01  1.1193e-01\n -1.5889e-01 -4.8278e-01 -6.0921e-01 -2.7647e-03  5.9868e-01  1.7585e-01\n  2.4425e-01 -1.6748e-01 -3.1127e-01  7.2188e-02 -3.0990e-01  5.3968e-01\n  1.5336e-01  3.3288e-02 -9.7447e-02 -3.5652e-01  2.1857e-01 -6.0244e-01\n -3.4089e-01  4.0997e-01  8.4192e-02  8.9615e-02 -2.9653e-01 -1.2280e-01\n -9.7277e-02  2.5859e-01 -1.7852e-01  1.9431e-01  2.9292e-01  1.6688e-01\n  6.1464e-02  1.8593e-01  3.5180e-01  2.3019e-01  2.9836e-01 -6.2598e-01\n -4.1077e-02  1.1358e-01  4.3305e-01 -2.2440e-01  3.2747e-01 -1.2863e-01\n  3.3741e-02  4.7989e-02  5.8863e-01  1.6831e-01  6.4310e-02  3.2541e-01\n  1.6141e-01 -6.5065e-01  5.0507e-01 -2.7813e-01 -4.9042e-01  1.7290e-01\n  7.9749e-03  1.3360e-01 -4.2023e-01  3.8128e-02 -1.3633e-01 -7.8020e-01\n  1.0493e-01 -5.5925e-01 -5.4824e-01 -8.3826e-02  2.0719e-01 -2.9577e-01\n  1.5627e-01 -4.5196e-01  3.1989e-01 -1.8950e+00  7.1282e-02 -4.3792e-01\n  1.8171e-01  4.3731e-01  7.6556e-02  2.7333e-01  3.4088e-01 -1.5427e-02\n -1.2489e-01  1.5079e-01  3.3024e-01 -3.2833e-01  1.3075e-01  1.9394e-01\n -2.1533e-02  2.4640e-02  3.0551e-03  2.8751e-01  1.2263e-01 -3.0876e-01\n  7.2770e-02 -2.1924e-01 -6.6252e-01 -1.1808e-01  1.0729e-01 -1.1339e-01\n -3.5207e-01 -6.4915e-02  4.3393e-01 -3.6404e-01  1.9188e-01 -1.9190e-01\n  2.2292e-01  3.7612e-01  2.7621e-01  1.2434e-01 -4.4118e-01  2.0836e-01\n -3.0368e-01  1.5523e-01 -2.9430e-01  7.3763e-02  1.4563e-01 -5.7160e-01\n -2.4745e-01  1.0717e-01 -9.9248e-02  1.6901e-01  5.3523e-02  1.6232e-01\n -1.2913e-01  1.6198e-01 -8.6185e-02 -6.9466e-01 -4.7933e-01  2.1109e-01\n  3.6077e-02 -3.6730e-01  4.0278e-01  3.2433e-01  3.6393e-01  6.1481e-01\n -4.4770e-01 -1.4985e-01  9.7985e-02 -7.7260e-01  3.0509e-01  1.9166e-01\n -4.7463e-02  5.4850e-01 -3.6828e-01  3.8404e-01 -2.5770e-02  6.5738e-01\n -2.9484e-01 -1.6966e-01  3.9594e-01  2.0699e-01  3.2274e-01  1.4087e-01\n -6.4342e-02 -2.7137e-01 -4.3933e-01 -4.9553e-01 -7.2767e-01 -9.8112e-02\n  1.5167e-01 -6.8439e-02 -2.0835e-01  1.8893e-01  2.3914e-01 -2.3868e-01\n  3.9119e-02 -2.3607e-01  1.0271e-01  1.7873e-01 -2.4358e-01 -2.9139e-01\n -3.5070e-01  4.8074e-01  2.4717e-01  2.7196e-01 -3.1147e-01  1.2356e-01\n -1.4944e-01 -6.7394e-01 -6.4485e-01 -2.9704e-01 -1.2841e-01 -8.6091e-02\n  3.1083e-01  1.2449e-01 -4.5417e-02 -6.2320e-01 -3.7586e-01  1.8911e-01\n -5.7251e-01 -1.1958e-01 -2.7731e-01  3.9777e-01  8.3855e-02  2.7524e-01\n -2.5425e-01 -5.6814e-01 -2.1807e-01  1.5898e-01  1.7674e-01 -3.2364e-01\n  8.9598e-02  6.7244e-02 -3.1501e-01 -5.2225e-01  1.2196e-01 -2.8471e-01\n -6.9456e-01  4.5668e-01  2.3910e-01  3.2558e-02  2.5858e-01  2.3797e-01\n -1.5916e-02 -2.6594e-01 -5.0949e-01  6.0164e-02 -9.5915e-02  9.9826e-02\n  3.6151e-01  5.4723e-01 -3.4450e-01 -1.3420e-01  2.0969e-01 -5.5130e-01\n  2.8391e-01 -7.4650e-02 -6.9117e-01 -9.1199e-02  8.3684e-02 -3.7566e-01\n  3.5695e-01  4.3191e-01  3.4192e-02  3.6468e-01  1.9282e-01  3.3075e-02\n  3.6207e-01 -3.4662e-01 -8.0111e-01  1.8912e-01 -1.0843e-01  4.2698e-01\n -1.1095e-01  3.0047e-05 -4.1741e-01  2.8636e-01 -2.9539e-02  4.5412e-01\n  3.2665e-01 -2.2631e-01 -2.3965e-01 -8.9897e-02 -1.7228e-01  2.6167e-02\n  2.2689e-01  4.6418e-01  4.9074e-01  9.5966e-02 -3.5004e-02 -5.0326e-02\n  5.9484e-01 -4.9292e-01  1.4832e-01  4.5449e-01  2.5694e-02  1.7137e-01]\n"
     ]
    }
   ],
   "source": [
    "import spacy\n",
    "nlp_lg = spacy.load('en_core_web_lg')\n",
    "doc = nlp_lg(\"The patient is scheduled to have a surgery in Washington on April 1st.\")\n",
    "print(\"Doc vector:\", doc.vector)\n",
    "print(\"[patient] vector:\", doc[1].vector)"
   ]
  },
  {
   "cell_type": "code",
   "execution_count": 12,
   "metadata": {},
   "outputs": [
    {
     "output_type": "stream",
     "name": "stdout",
     "text": [
      "teach:professor--0.37227946144876234\nteach:student--0.5189491635010154\n"
     ]
    }
   ],
   "source": [
    "doc1 = nlp_lg('teach')\n",
    "doc2 = nlp_lg('professor')\n",
    "doc3 = nlp_lg('student')\n",
    "print(f'{doc1}:{doc2}--{doc1.similarity(doc2)}')\n",
    "print(f'{doc1}:{doc3}--{doc1.similarity(doc3)}')"
   ]
  },
  {
   "cell_type": "code",
   "execution_count": 26,
   "metadata": {},
   "outputs": [
    {
     "output_type": "stream",
     "name": "stdout",
     "text": [
      "[(10117188822904858183, 1, 2), (10117188822904858183, 7, 8)]\n"
     ]
    }
   ],
   "source": [
    "from spacy.matcher import Matcher\n",
    "matcher = Matcher(nlp_lg.vocab)\n",
    "patterns = [[{\"TEXT\": \"surgery\"}], [{\"TEXT\": \"patient\"}]]\n",
    "matcher.add(\"Medical\", patterns)\n",
    "doc = nlp_lg(\"The patient is scheduled to have a surgery in Washington on April 1st.\")\n",
    "matches = matcher(doc)\n",
    "print(matches)"
   ]
  },
  {
   "cell_type": "code",
   "execution_count": 54,
   "metadata": {},
   "outputs": [
    {
     "output_type": "stream",
     "name": "stdout",
     "text": [
      "Noun phrases: ['Pt', 'her medications', 'pt', 'VNA', 'assistance', 'nurse arrival pt', 'o', 'her feet', 'she', 'she', 'ojects']\nVerbs: ['administer', 'send', 'be', 'feel', 'have', 'hold', 'ambulate']\n"
     ]
    }
   ],
   "source": [
    "print(\"Noun phrases:\", [chunk.text for chunk in doc.noun_chunks])\n",
    "print(\"Verbs:\", [token.lemma_ for token in doc if token.pos_ == \"VERB\"])"
   ]
  },
  {
   "cell_type": "code",
   "execution_count": null,
   "metadata": {},
   "outputs": [],
   "source": []
  }
 ]
}