{
  "metadata": {
    "language_info": {
      "codemirror_mode": {
        "name": "ipython",
        "version": 3
      },
      "file_extension": ".py",
      "mimetype": "text/x-python",
      "name": "python",
      "nbconvert_exporter": "python",
      "pygments_lexer": "ipython3",
      "version": "3.6.13-final"
    },
    "orig_nbformat": 2,
    "kernelspec": {
      "name": "python3",
      "display_name": "Python 3.6.13 64-bit ('NLP_36': conda)",
      "metadata": {
        "interpreter": {
          "hash": "4bdffe19da9c8a1c39e8928e0e974c8eaf7d6d2b9ea313bf1f779cb4c7db8119"
        }
      }
    },
    "colab": {
      "provenance": []
    }
  },
  "nbformat": 4,
  "nbformat_minor": 0,
  "cells": [
    {
      "cell_type": "code",
      "execution_count": 1,
      "metadata": {
        "id": "ZoKzigW0IR1f"
      },
      "outputs": [],
      "source": [
        "ehr_note = '''\n",
        "Pt was unclear about how much or how to administer her medications. Subsequently pt was sent home w/VNA for assistance. Upon nurse arrival pt c/o being unsteady on her feet and she felt as though she had to hold on to ojects for often to ambulate.\n",
        "'''\n",
        "\n",
        "import os\n",
        "os.environ[\"CUDA_VISIBLE_DEVICES\"] = \"4\"\n"
      ]
    },
    {
      "cell_type": "code",
      "execution_count": 2,
      "metadata": {
        "id": "r0T59SUFIR1g"
      },
      "outputs": [],
      "source": [
        "\n",
        "import spacy\n",
        "#Load language model for English\n",
        "nlp = spacy.load(\"en_core_web_sm\")\n",
        "\n",
        "doc = nlp(ehr_note)\n"
      ]
    },
    {
      "cell_type": "code",
      "execution_count": 3,
      "metadata": {
        "colab": {
          "base_uri": "https://localhost:8080/"
        },
        "id": "37mz9bqoIR1g",
        "outputId": "fae049ee-3b5a-4352-f2c6-1ded2df3aa16"
      },
      "outputs": [
        {
          "output_type": "stream",
          "name": "stdout",
          "text": [
            "0|14|\n",
            "Pt was unclear about how much or how to administer her medications.\n",
            "14|25|Subsequently pt was sent home w/VNA for assistance.\n",
            "25|55|Upon nurse arrival pt c/o being unsteady on her feet and she felt as though she had to hold on to ojects for often to ambulate.\n",
            "\n"
          ]
        }
      ],
      "source": [
        "for sent in doc.sents:\n",
        "    print(f'{sent.start}|{sent.end}|{sent.text}')"
      ]
    },
    {
      "cell_type": "code",
      "execution_count": 4,
      "metadata": {
        "colab": {
          "base_uri": "https://localhost:8080/"
        },
        "id": "T4OreB-eIR1h",
        "outputId": "6c6beb94-3a5a-4e52-f8d2-126cb4094dd9"
      },
      "outputs": [
        {
          "output_type": "stream",
          "name": "stdout",
          "text": [
            "\n",
            "\t0\t\n",
            "\tFalse\tFalse\n",
            "Pt\t1\tpt\tFalse\tFalse\n",
            "was\t2\twas\tFalse\tTrue\n",
            "unclear\t3\tunclear\tFalse\tFalse\n",
            "about\t4\tabout\tFalse\tTrue\n",
            "how\t5\thow\tFalse\tTrue\n",
            "much\t6\tmuch\tFalse\tTrue\n",
            "or\t7\tor\tFalse\tTrue\n",
            "how\t8\thow\tFalse\tTrue\n",
            "to\t9\tto\tFalse\tTrue\n",
            "administer\t10\tadminister\tFalse\tFalse\n",
            "her\t11\ther\tFalse\tTrue\n",
            "medications\t12\tmedications\tFalse\tFalse\n",
            ".\t13\t.\tTrue\tFalse\n",
            "Subsequently\t14\tsubsequently\tFalse\tFalse\n",
            "pt\t15\tpt\tFalse\tFalse\n",
            "was\t16\twas\tFalse\tTrue\n",
            "sent\t17\tsent\tFalse\tFalse\n",
            "home\t18\thome\tFalse\tFalse\n",
            "w\t19\tw\tFalse\tFalse\n",
            "/\t20\t/\tTrue\tFalse\n",
            "VNA\t21\tvna\tFalse\tFalse\n",
            "for\t22\tfor\tFalse\tTrue\n",
            "assistance\t23\tassistance\tFalse\tFalse\n",
            ".\t24\t.\tTrue\tFalse\n",
            "Upon\t25\tupon\tFalse\tTrue\n",
            "nurse\t26\tnurse\tFalse\tFalse\n",
            "arrival\t27\tarrival\tFalse\tFalse\n",
            "pt\t28\tpt\tFalse\tFalse\n",
            "c\t29\tc\tFalse\tFalse\n",
            "/\t30\t/\tTrue\tFalse\n",
            "o\t31\to\tFalse\tFalse\n",
            "being\t32\tbeing\tFalse\tTrue\n",
            "unsteady\t33\tunsteady\tFalse\tFalse\n",
            "on\t34\ton\tFalse\tTrue\n",
            "her\t35\ther\tFalse\tTrue\n",
            "feet\t36\tfeet\tFalse\tFalse\n",
            "and\t37\tand\tFalse\tTrue\n",
            "she\t38\tshe\tFalse\tTrue\n",
            "felt\t39\tfelt\tFalse\tFalse\n",
            "as\t40\tas\tFalse\tTrue\n",
            "though\t41\tthough\tFalse\tTrue\n",
            "she\t42\tshe\tFalse\tTrue\n",
            "had\t43\thad\tFalse\tTrue\n",
            "to\t44\tto\tFalse\tTrue\n",
            "hold\t45\thold\tFalse\tFalse\n",
            "on\t46\ton\tFalse\tTrue\n",
            "to\t47\tto\tFalse\tTrue\n",
            "ojects\t48\tojects\tFalse\tFalse\n",
            "for\t49\tfor\tFalse\tTrue\n",
            "often\t50\toften\tFalse\tTrue\n",
            "to\t51\tto\tFalse\tTrue\n",
            "ambulate\t52\tambulate\tFalse\tFalse\n",
            ".\t53\t.\tTrue\tFalse\n",
            "\n",
            "\t54\t\n",
            "\tFalse\tFalse\n"
          ]
        }
      ],
      "source": [
        "for token in doc:\n",
        "    print(f'{token.text}\\t{token.i}\\t{token.norm_}\\t{token.is_punct}\\t{token.is_stop}')"
      ]
    },
    {
      "cell_type": "code",
      "execution_count": 5,
      "metadata": {
        "colab": {
          "base_uri": "https://localhost:8080/"
        },
        "id": "gXMUzO1IIR1h",
        "outputId": "3ad11dc1-c172-4067-85f2-b72f77ddbe4f"
      },
      "outputs": [
        {
          "output_type": "stream",
          "name": "stdout",
          "text": [
            "\n",
            "\tSPACE\t_SP\tdep\tPt\n",
            "Pt\tPROPN\tNNP\tnsubj\twas\n",
            "was\tAUX\tVBD\tROOT\twas\n",
            "unclear\tADJ\tJJ\tacomp\twas\n",
            "about\tADP\tIN\tprep\tunclear\n",
            "how\tSCONJ\tWRB\tadvmod\tmuch\n",
            "much\tADJ\tJJ\tadvmod\tadminister\n",
            "or\tCCONJ\tCC\tcc\tmuch\n",
            "how\tSCONJ\tWRB\tconj\tmuch\n",
            "to\tPART\tTO\taux\tadminister\n",
            "administer\tVERB\tVB\tpcomp\tabout\n",
            "her\tPRON\tPRP$\tposs\tmedications\n",
            "medications\tNOUN\tNNS\tdobj\tadminister\n",
            ".\tPUNCT\t.\tpunct\twas\n",
            "Subsequently\tADV\tRB\tadvmod\tsent\n",
            "pt\tPROPN\tNNP\tnsubjpass\tsent\n",
            "was\tAUX\tVBD\tauxpass\tsent\n",
            "sent\tVERB\tVBN\tROOT\tsent\n",
            "home\tADV\tRB\tadvmod\tsent\n",
            "w\tNOUN\tNN\tnmod\tVNA\n",
            "/\tSYM\tSYM\tpunct\tVNA\n",
            "VNA\tNOUN\tNN\tdobj\tsent\n",
            "for\tADP\tIN\tprep\tVNA\n",
            "assistance\tNOUN\tNN\tpobj\tfor\n",
            ".\tPUNCT\t.\tpunct\tsent\n",
            "Upon\tSCONJ\tIN\tprep\tfelt\n",
            "nurse\tNOUN\tNN\tcompound\tarrival\n",
            "arrival\tNOUN\tNN\tcompound\to\n",
            "pt\tPROPN\tNNP\tcompound\to\n",
            "c\tPROPN\tNNP\tcompound\to\n",
            "/\tSYM\tSYM\tpunct\to\n",
            "o\tNOUN\tNN\tnsubj\tbeing\n",
            "being\tAUX\tVBG\tpcomp\tUpon\n",
            "unsteady\tADJ\tJJ\tacomp\tbeing\n",
            "on\tADP\tIN\tprep\tunsteady\n",
            "her\tPRON\tPRP$\tposs\tfeet\n",
            "feet\tNOUN\tNNS\tpobj\ton\n",
            "and\tCCONJ\tCC\tcc\tfelt\n",
            "she\tPRON\tPRP\tnsubj\tfelt\n",
            "felt\tVERB\tVBD\tROOT\tfelt\n",
            "as\tSCONJ\tIN\tmark\thad\n",
            "though\tSCONJ\tIN\tmark\thad\n",
            "she\tPRON\tPRP\tnsubj\thad\n",
            "had\tVERB\tVBD\tadvcl\tfelt\n",
            "to\tPART\tTO\taux\thold\n",
            "hold\tVERB\tVB\txcomp\thad\n",
            "on\tADP\tRP\tprt\thold\n",
            "to\tADP\tIN\tprep\thold\n",
            "ojects\tNOUN\tNNS\tpobj\tto\n",
            "for\tADP\tIN\tprep\thold\n",
            "often\tADV\tRB\tadvmod\tambulate\n",
            "to\tPART\tTO\taux\tambulate\n",
            "ambulate\tVERB\tVB\tpcomp\tfor\n",
            ".\tPUNCT\t.\tpunct\tfelt\n",
            "\n",
            "\tSPACE\t_SP\tdep\t.\n"
          ]
        }
      ],
      "source": [
        "for token in doc:\n",
        "    print(f'{token.text}\\t{token.pos_}\\t{token.tag_}\\t{token.dep_}\\t{token.head.text}')"
      ]
    },
    {
      "cell_type": "code",
      "execution_count": 6,
      "metadata": {
        "colab": {
          "base_uri": "https://localhost:8080/",
          "height": 438
        },
        "id": "LIbhF9baIR1h",
        "outputId": "87daaabd-b44c-462d-e10b-ee710e4c636f"
      },
      "outputs": [
        {
          "output_type": "display_data",
          "data": {
            "text/plain": [
              "<IPython.core.display.HTML object>"
            ],
            "text/html": [
              "<span class=\"tex2jax_ignore\"><svg xmlns=\"http://www.w3.org/2000/svg\" xmlns:xlink=\"http://www.w3.org/1999/xlink\" xml:lang=\"en\" id=\"39c447da23eb4b398a937841b48b75b1-0\" class=\"displacy\" width=\"1730\" height=\"417.0\" direction=\"ltr\" style=\"max-width: none; height: 417.0px; color: #000000; background: #ffffff; font-family: Arial; direction: ltr\">\n",
              "<text class=\"displacy-token\" fill=\"currentColor\" text-anchor=\"middle\" y=\"327.0\">\n",
              "    <tspan class=\"displacy-word\" fill=\"currentColor\" x=\"50\">Pt</tspan>\n",
              "    <tspan class=\"displacy-tag\" dy=\"2em\" fill=\"currentColor\" x=\"50\">PROPN</tspan>\n",
              "</text>\n",
              "\n",
              "<text class=\"displacy-token\" fill=\"currentColor\" text-anchor=\"middle\" y=\"327.0\">\n",
              "    <tspan class=\"displacy-word\" fill=\"currentColor\" x=\"190\">was</tspan>\n",
              "    <tspan class=\"displacy-tag\" dy=\"2em\" fill=\"currentColor\" x=\"190\">AUX</tspan>\n",
              "</text>\n",
              "\n",
              "<text class=\"displacy-token\" fill=\"currentColor\" text-anchor=\"middle\" y=\"327.0\">\n",
              "    <tspan class=\"displacy-word\" fill=\"currentColor\" x=\"330\">unclear</tspan>\n",
              "    <tspan class=\"displacy-tag\" dy=\"2em\" fill=\"currentColor\" x=\"330\">ADJ</tspan>\n",
              "</text>\n",
              "\n",
              "<text class=\"displacy-token\" fill=\"currentColor\" text-anchor=\"middle\" y=\"327.0\">\n",
              "    <tspan class=\"displacy-word\" fill=\"currentColor\" x=\"470\">about</tspan>\n",
              "    <tspan class=\"displacy-tag\" dy=\"2em\" fill=\"currentColor\" x=\"470\">ADP</tspan>\n",
              "</text>\n",
              "\n",
              "<text class=\"displacy-token\" fill=\"currentColor\" text-anchor=\"middle\" y=\"327.0\">\n",
              "    <tspan class=\"displacy-word\" fill=\"currentColor\" x=\"610\">how</tspan>\n",
              "    <tspan class=\"displacy-tag\" dy=\"2em\" fill=\"currentColor\" x=\"610\">SCONJ</tspan>\n",
              "</text>\n",
              "\n",
              "<text class=\"displacy-token\" fill=\"currentColor\" text-anchor=\"middle\" y=\"327.0\">\n",
              "    <tspan class=\"displacy-word\" fill=\"currentColor\" x=\"750\">much</tspan>\n",
              "    <tspan class=\"displacy-tag\" dy=\"2em\" fill=\"currentColor\" x=\"750\">ADJ</tspan>\n",
              "</text>\n",
              "\n",
              "<text class=\"displacy-token\" fill=\"currentColor\" text-anchor=\"middle\" y=\"327.0\">\n",
              "    <tspan class=\"displacy-word\" fill=\"currentColor\" x=\"890\">or</tspan>\n",
              "    <tspan class=\"displacy-tag\" dy=\"2em\" fill=\"currentColor\" x=\"890\">CCONJ</tspan>\n",
              "</text>\n",
              "\n",
              "<text class=\"displacy-token\" fill=\"currentColor\" text-anchor=\"middle\" y=\"327.0\">\n",
              "    <tspan class=\"displacy-word\" fill=\"currentColor\" x=\"1030\">how</tspan>\n",
              "    <tspan class=\"displacy-tag\" dy=\"2em\" fill=\"currentColor\" x=\"1030\">SCONJ</tspan>\n",
              "</text>\n",
              "\n",
              "<text class=\"displacy-token\" fill=\"currentColor\" text-anchor=\"middle\" y=\"327.0\">\n",
              "    <tspan class=\"displacy-word\" fill=\"currentColor\" x=\"1170\">to</tspan>\n",
              "    <tspan class=\"displacy-tag\" dy=\"2em\" fill=\"currentColor\" x=\"1170\">PART</tspan>\n",
              "</text>\n",
              "\n",
              "<text class=\"displacy-token\" fill=\"currentColor\" text-anchor=\"middle\" y=\"327.0\">\n",
              "    <tspan class=\"displacy-word\" fill=\"currentColor\" x=\"1310\">administer</tspan>\n",
              "    <tspan class=\"displacy-tag\" dy=\"2em\" fill=\"currentColor\" x=\"1310\">VERB</tspan>\n",
              "</text>\n",
              "\n",
              "<text class=\"displacy-token\" fill=\"currentColor\" text-anchor=\"middle\" y=\"327.0\">\n",
              "    <tspan class=\"displacy-word\" fill=\"currentColor\" x=\"1450\">her</tspan>\n",
              "    <tspan class=\"displacy-tag\" dy=\"2em\" fill=\"currentColor\" x=\"1450\">PRON</tspan>\n",
              "</text>\n",
              "\n",
              "<text class=\"displacy-token\" fill=\"currentColor\" text-anchor=\"middle\" y=\"327.0\">\n",
              "    <tspan class=\"displacy-word\" fill=\"currentColor\" x=\"1590\">medications.</tspan>\n",
              "    <tspan class=\"displacy-tag\" dy=\"2em\" fill=\"currentColor\" x=\"1590\">NOUN</tspan>\n",
              "</text>\n",
              "\n",
              "<g class=\"displacy-arrow\">\n",
              "    <path class=\"displacy-arc\" id=\"arrow-39c447da23eb4b398a937841b48b75b1-0-0\" stroke-width=\"2px\" d=\"M70,282.0 C70,212.0 175.0,212.0 175.0,282.0\" fill=\"none\" stroke=\"currentColor\"/>\n",
              "    <text dy=\"1.25em\" style=\"font-size: 0.8em; letter-spacing: 1px\">\n",
              "        <textPath xlink:href=\"#arrow-39c447da23eb4b398a937841b48b75b1-0-0\" class=\"displacy-label\" startOffset=\"50%\" side=\"left\" fill=\"currentColor\" text-anchor=\"middle\">nsubj</textPath>\n",
              "    </text>\n",
              "    <path class=\"displacy-arrowhead\" d=\"M70,284.0 L62,272.0 78,272.0\" fill=\"currentColor\"/>\n",
              "</g>\n",
              "\n",
              "<g class=\"displacy-arrow\">\n",
              "    <path class=\"displacy-arc\" id=\"arrow-39c447da23eb4b398a937841b48b75b1-0-1\" stroke-width=\"2px\" d=\"M210,282.0 C210,212.0 315.0,212.0 315.0,282.0\" fill=\"none\" stroke=\"currentColor\"/>\n",
              "    <text dy=\"1.25em\" style=\"font-size: 0.8em; letter-spacing: 1px\">\n",
              "        <textPath xlink:href=\"#arrow-39c447da23eb4b398a937841b48b75b1-0-1\" class=\"displacy-label\" startOffset=\"50%\" side=\"left\" fill=\"currentColor\" text-anchor=\"middle\">acomp</textPath>\n",
              "    </text>\n",
              "    <path class=\"displacy-arrowhead\" d=\"M315.0,284.0 L323.0,272.0 307.0,272.0\" fill=\"currentColor\"/>\n",
              "</g>\n",
              "\n",
              "<g class=\"displacy-arrow\">\n",
              "    <path class=\"displacy-arc\" id=\"arrow-39c447da23eb4b398a937841b48b75b1-0-2\" stroke-width=\"2px\" d=\"M350,282.0 C350,212.0 455.0,212.0 455.0,282.0\" fill=\"none\" stroke=\"currentColor\"/>\n",
              "    <text dy=\"1.25em\" style=\"font-size: 0.8em; letter-spacing: 1px\">\n",
              "        <textPath xlink:href=\"#arrow-39c447da23eb4b398a937841b48b75b1-0-2\" class=\"displacy-label\" startOffset=\"50%\" side=\"left\" fill=\"currentColor\" text-anchor=\"middle\">prep</textPath>\n",
              "    </text>\n",
              "    <path class=\"displacy-arrowhead\" d=\"M455.0,284.0 L463.0,272.0 447.0,272.0\" fill=\"currentColor\"/>\n",
              "</g>\n",
              "\n",
              "<g class=\"displacy-arrow\">\n",
              "    <path class=\"displacy-arc\" id=\"arrow-39c447da23eb4b398a937841b48b75b1-0-3\" stroke-width=\"2px\" d=\"M630,282.0 C630,212.0 735.0,212.0 735.0,282.0\" fill=\"none\" stroke=\"currentColor\"/>\n",
              "    <text dy=\"1.25em\" style=\"font-size: 0.8em; letter-spacing: 1px\">\n",
              "        <textPath xlink:href=\"#arrow-39c447da23eb4b398a937841b48b75b1-0-3\" class=\"displacy-label\" startOffset=\"50%\" side=\"left\" fill=\"currentColor\" text-anchor=\"middle\">advmod</textPath>\n",
              "    </text>\n",
              "    <path class=\"displacy-arrowhead\" d=\"M630,284.0 L622,272.0 638,272.0\" fill=\"currentColor\"/>\n",
              "</g>\n",
              "\n",
              "<g class=\"displacy-arrow\">\n",
              "    <path class=\"displacy-arc\" id=\"arrow-39c447da23eb4b398a937841b48b75b1-0-4\" stroke-width=\"2px\" d=\"M770,282.0 C770,72.0 1305.0,72.0 1305.0,282.0\" fill=\"none\" stroke=\"currentColor\"/>\n",
              "    <text dy=\"1.25em\" style=\"font-size: 0.8em; letter-spacing: 1px\">\n",
              "        <textPath xlink:href=\"#arrow-39c447da23eb4b398a937841b48b75b1-0-4\" class=\"displacy-label\" startOffset=\"50%\" side=\"left\" fill=\"currentColor\" text-anchor=\"middle\">advmod</textPath>\n",
              "    </text>\n",
              "    <path class=\"displacy-arrowhead\" d=\"M770,284.0 L762,272.0 778,272.0\" fill=\"currentColor\"/>\n",
              "</g>\n",
              "\n",
              "<g class=\"displacy-arrow\">\n",
              "    <path class=\"displacy-arc\" id=\"arrow-39c447da23eb4b398a937841b48b75b1-0-5\" stroke-width=\"2px\" d=\"M770,282.0 C770,212.0 875.0,212.0 875.0,282.0\" fill=\"none\" stroke=\"currentColor\"/>\n",
              "    <text dy=\"1.25em\" style=\"font-size: 0.8em; letter-spacing: 1px\">\n",
              "        <textPath xlink:href=\"#arrow-39c447da23eb4b398a937841b48b75b1-0-5\" class=\"displacy-label\" startOffset=\"50%\" side=\"left\" fill=\"currentColor\" text-anchor=\"middle\">cc</textPath>\n",
              "    </text>\n",
              "    <path class=\"displacy-arrowhead\" d=\"M875.0,284.0 L883.0,272.0 867.0,272.0\" fill=\"currentColor\"/>\n",
              "</g>\n",
              "\n",
              "<g class=\"displacy-arrow\">\n",
              "    <path class=\"displacy-arc\" id=\"arrow-39c447da23eb4b398a937841b48b75b1-0-6\" stroke-width=\"2px\" d=\"M770,282.0 C770,142.0 1020.0,142.0 1020.0,282.0\" fill=\"none\" stroke=\"currentColor\"/>\n",
              "    <text dy=\"1.25em\" style=\"font-size: 0.8em; letter-spacing: 1px\">\n",
              "        <textPath xlink:href=\"#arrow-39c447da23eb4b398a937841b48b75b1-0-6\" class=\"displacy-label\" startOffset=\"50%\" side=\"left\" fill=\"currentColor\" text-anchor=\"middle\">conj</textPath>\n",
              "    </text>\n",
              "    <path class=\"displacy-arrowhead\" d=\"M1020.0,284.0 L1028.0,272.0 1012.0,272.0\" fill=\"currentColor\"/>\n",
              "</g>\n",
              "\n",
              "<g class=\"displacy-arrow\">\n",
              "    <path class=\"displacy-arc\" id=\"arrow-39c447da23eb4b398a937841b48b75b1-0-7\" stroke-width=\"2px\" d=\"M1190,282.0 C1190,212.0 1295.0,212.0 1295.0,282.0\" fill=\"none\" stroke=\"currentColor\"/>\n",
              "    <text dy=\"1.25em\" style=\"font-size: 0.8em; letter-spacing: 1px\">\n",
              "        <textPath xlink:href=\"#arrow-39c447da23eb4b398a937841b48b75b1-0-7\" class=\"displacy-label\" startOffset=\"50%\" side=\"left\" fill=\"currentColor\" text-anchor=\"middle\">aux</textPath>\n",
              "    </text>\n",
              "    <path class=\"displacy-arrowhead\" d=\"M1190,284.0 L1182,272.0 1198,272.0\" fill=\"currentColor\"/>\n",
              "</g>\n",
              "\n",
              "<g class=\"displacy-arrow\">\n",
              "    <path class=\"displacy-arc\" id=\"arrow-39c447da23eb4b398a937841b48b75b1-0-8\" stroke-width=\"2px\" d=\"M490,282.0 C490,2.0 1310.0,2.0 1310.0,282.0\" fill=\"none\" stroke=\"currentColor\"/>\n",
              "    <text dy=\"1.25em\" style=\"font-size: 0.8em; letter-spacing: 1px\">\n",
              "        <textPath xlink:href=\"#arrow-39c447da23eb4b398a937841b48b75b1-0-8\" class=\"displacy-label\" startOffset=\"50%\" side=\"left\" fill=\"currentColor\" text-anchor=\"middle\">pcomp</textPath>\n",
              "    </text>\n",
              "    <path class=\"displacy-arrowhead\" d=\"M1310.0,284.0 L1318.0,272.0 1302.0,272.0\" fill=\"currentColor\"/>\n",
              "</g>\n",
              "\n",
              "<g class=\"displacy-arrow\">\n",
              "    <path class=\"displacy-arc\" id=\"arrow-39c447da23eb4b398a937841b48b75b1-0-9\" stroke-width=\"2px\" d=\"M1470,282.0 C1470,212.0 1575.0,212.0 1575.0,282.0\" fill=\"none\" stroke=\"currentColor\"/>\n",
              "    <text dy=\"1.25em\" style=\"font-size: 0.8em; letter-spacing: 1px\">\n",
              "        <textPath xlink:href=\"#arrow-39c447da23eb4b398a937841b48b75b1-0-9\" class=\"displacy-label\" startOffset=\"50%\" side=\"left\" fill=\"currentColor\" text-anchor=\"middle\">poss</textPath>\n",
              "    </text>\n",
              "    <path class=\"displacy-arrowhead\" d=\"M1470,284.0 L1462,272.0 1478,272.0\" fill=\"currentColor\"/>\n",
              "</g>\n",
              "\n",
              "<g class=\"displacy-arrow\">\n",
              "    <path class=\"displacy-arc\" id=\"arrow-39c447da23eb4b398a937841b48b75b1-0-10\" stroke-width=\"2px\" d=\"M1330,282.0 C1330,142.0 1580.0,142.0 1580.0,282.0\" fill=\"none\" stroke=\"currentColor\"/>\n",
              "    <text dy=\"1.25em\" style=\"font-size: 0.8em; letter-spacing: 1px\">\n",
              "        <textPath xlink:href=\"#arrow-39c447da23eb4b398a937841b48b75b1-0-10\" class=\"displacy-label\" startOffset=\"50%\" side=\"left\" fill=\"currentColor\" text-anchor=\"middle\">dobj</textPath>\n",
              "    </text>\n",
              "    <path class=\"displacy-arrowhead\" d=\"M1580.0,284.0 L1588.0,272.0 1572.0,272.0\" fill=\"currentColor\"/>\n",
              "</g>\n",
              "</svg></span>"
            ]
          },
          "metadata": {}
        }
      ],
      "source": [
        "from spacy import displacy\n",
        "sent = 'Pt was unclear about how much or how to administer her medications.'\n",
        "sent_doc = nlp(sent)\n",
        "displacy.render(sent_doc, style=\"dep\", jupyter=True, options={'distance': 140})\n"
      ]
    },
    {
      "cell_type": "code",
      "execution_count": 7,
      "metadata": {
        "colab": {
          "base_uri": "https://localhost:8080/"
        },
        "id": "gCbA03jZIR1h",
        "outputId": "96a4ea8d-5a0a-4466-b93a-838e2aa99d64"
      },
      "outputs": [
        {
          "output_type": "stream",
          "name": "stdout",
          "text": [
            "medications administer\n"
          ]
        }
      ],
      "source": [
        "for token in sent_doc:\n",
        "    if token.pos_ == 'NOUN':\n",
        "        if token.head and token.head.pos_ == 'VERB':\n",
        "            print (token, token.head.text)\n"
      ]
    },
    {
      "cell_type": "code",
      "execution_count": 8,
      "metadata": {
        "colab": {
          "base_uri": "https://localhost:8080/"
        },
        "id": "c7OjvrvZIR1i",
        "outputId": "517f49d1-1af7-49b6-e8da-9edaa4ef7349"
      },
      "outputs": [
        {
          "output_type": "stream",
          "name": "stdout",
          "text": [
            "Autonomous amod cars NOUN []\n",
            "cars nsubj shift VERB [Autonomous]\n",
            "shift ROOT shift VERB [cars, liability, toward]\n",
            "insurance compound liability NOUN []\n",
            "liability dobj shift VERB [insurance]\n",
            "toward prep shift VERB [manufacturers]\n",
            "manufacturers pobj toward ADP []\n"
          ]
        }
      ],
      "source": [
        "doc = nlp(\"Autonomous cars shift insurance liability toward manufacturers\")\n",
        "for token in doc:\n",
        "    print(token.text, token.dep_, token.head.text, token.head.pos_,\n",
        "            [child for child in token.children])"
      ]
    },
    {
      "cell_type": "code",
      "execution_count": 9,
      "metadata": {
        "colab": {
          "base_uri": "https://localhost:8080/",
          "height": 88
        },
        "id": "nIszd4j9IR1i",
        "outputId": "00a400b9-cfbe-42b4-b3d2-2efcb99f51f2"
      },
      "outputs": [
        {
          "output_type": "stream",
          "name": "stdout",
          "text": [
            "Washington 46 56 GPE\n",
            "April 1st 60 69 DATE\n"
          ]
        },
        {
          "output_type": "display_data",
          "data": {
            "text/plain": [
              "<IPython.core.display.HTML object>"
            ],
            "text/html": [
              "<span class=\"tex2jax_ignore\"><div class=\"entities\" style=\"line-height: 2.5; direction: ltr\">The patient is scheduled to have a surgery in \n",
              "<mark class=\"entity\" style=\"background: #feca74; padding: 0.45em 0.6em; margin: 0 0.25em; line-height: 1; border-radius: 0.35em;\">\n",
              "    Washington\n",
              "    <span style=\"font-size: 0.8em; font-weight: bold; line-height: 1; border-radius: 0.35em; vertical-align: middle; margin-left: 0.5rem\">GPE</span>\n",
              "</mark>\n",
              " on \n",
              "<mark class=\"entity\" style=\"background: #bfe1d9; padding: 0.45em 0.6em; margin: 0 0.25em; line-height: 1; border-radius: 0.35em;\">\n",
              "    April 1st\n",
              "    <span style=\"font-size: 0.8em; font-weight: bold; line-height: 1; border-radius: 0.35em; vertical-align: middle; margin-left: 0.5rem\">DATE</span>\n",
              "</mark>\n",
              ".</div></span>"
            ]
          },
          "metadata": {}
        }
      ],
      "source": [
        "from spacy import displacy\n",
        "ent_doc = nlp(\"The patient is scheduled to have a surgery in Washington on April 1st.\")\n",
        "for ent in ent_doc.ents:\n",
        "    print(ent.text, ent.start_char, ent.end_char, ent.label_)\n",
        "displacy.render(ent_doc, style=\"ent\")"
      ]
    },
    {
      "cell_type": "code",
      "execution_count": 10,
      "metadata": {
        "colab": {
          "base_uri": "https://localhost:8080/",
          "height": 52
        },
        "id": "Z6nqgkuTIR1i",
        "outputId": "dfb60067-6008-4013-9f2b-e106f2938261"
      },
      "outputs": [
        {
          "output_type": "display_data",
          "data": {
            "text/plain": [
              "<IPython.core.display.HTML object>"
            ],
            "text/html": [
              "<span class=\"tex2jax_ignore\"><div class=\"entities\" style=\"line-height: 2.5; direction: ltr\">The patient is scheduled to have a \n",
              "<mark class=\"entity\" style=\"background: #ddd; padding: 0.45em 0.6em; margin: 0 0.25em; line-height: 1; border-radius: 0.35em;\">\n",
              "    surgery\n",
              "    <span style=\"font-size: 0.8em; font-weight: bold; line-height: 1; border-radius: 0.35em; vertical-align: middle; margin-left: 0.5rem\">MED</span>\n",
              "</mark>\n",
              " in \n",
              "<mark class=\"entity\" style=\"background: #feca74; padding: 0.45em 0.6em; margin: 0 0.25em; line-height: 1; border-radius: 0.35em;\">\n",
              "    Washington\n",
              "    <span style=\"font-size: 0.8em; font-weight: bold; line-height: 1; border-radius: 0.35em; vertical-align: middle; margin-left: 0.5rem\">GPE</span>\n",
              "</mark>\n",
              " on \n",
              "<mark class=\"entity\" style=\"background: #bfe1d9; padding: 0.45em 0.6em; margin: 0 0.25em; line-height: 1; border-radius: 0.35em;\">\n",
              "    April 1st\n",
              "    <span style=\"font-size: 0.8em; font-weight: bold; line-height: 1; border-radius: 0.35em; vertical-align: middle; margin-left: 0.5rem\">DATE</span>\n",
              "</mark>\n",
              ".</div></span>"
            ]
          },
          "metadata": {}
        }
      ],
      "source": [
        "from spacy.tokens import Span\n",
        "med_ent = Span(ent_doc, 7, 8, label=\"MED\")\n",
        "ent_doc.ents = list(ent_doc.ents) + [med_ent]\n",
        "displacy.render(ent_doc, style=\"ent\")"
      ]
    },
    {
      "cell_type": "code",
      "execution_count": 12,
      "metadata": {
        "colab": {
          "base_uri": "https://localhost:8080/"
        },
        "id": "d1UU6_XPIR1i",
        "outputId": "42e70ba8-a996-4a5d-fc34-1674060008e4"
      },
      "outputs": [
        {
          "output_type": "stream",
          "name": "stdout",
          "text": [
            "Doc vector: [-2.4215176   2.4516416  -2.5891168   0.40009567  4.948385   -0.77509147\n",
            " -0.2373257   3.677299    2.0013516  -0.18205145  4.5391273   2.13425\n",
            " -2.3940485   2.3114035   0.8484836   3.3218243   1.6834627   0.14492856\n",
            " -0.76769716 -2.0501573   0.9206743  -1.5759201  -0.575498    2.302864\n",
            " -0.41836137 -1.9277607  -3.4888642   0.47052073 -1.3114315   1.3890635\n",
            "  1.1514008   0.28703716 -2.609515   -3.534399   -3.7559183  -0.8528422\n",
            " -1.3326     -0.05578306  0.48831773  0.74008     1.539308    1.0808715\n",
            "  1.252202   -1.0607479  -1.6956681   1.8462638   2.6090775  -2.7664225\n",
            " -1.1767498   2.0640054  -1.0565871   1.4282014  -1.3383044  -4.5968785\n",
            " -0.0103222   2.116108    1.4794613  -1.4610937  -0.60938114  0.68001\n",
            " -2.949581   -1.5789279  -0.12177856  0.91822857  1.4022077   0.19369783\n",
            " -1.2013085  -2.8501084  -0.29295993  2.6063673  -2.165614   -1.7320249\n",
            " -3.9292278   0.2500255  -0.60661346  1.8912214  -1.4872209   2.6911206\n",
            " -4.541796   -0.03644063 -4.307331   -0.88157743 -0.18223855 -0.07731658\n",
            "  2.3079014  -1.057729   -1.1260709  -1.5881236   0.9373094  -2.7326186\n",
            " -1.6743106  -0.7831573   0.8866809  -2.8416927   0.6394879  -1.3547376\n",
            "  0.33598647 -1.5747029  -0.4918701   2.501127    2.3221748   1.9443271\n",
            "  3.8076038   3.7335086   0.43103144  2.9638429   0.2963981  -2.023272\n",
            " -1.3685036  -5.3864036   2.1885064   2.481875   -2.0634105   1.7505144\n",
            "  1.2170643  -1.6459591  -2.5714564   0.12267435  1.4154072  -1.4354042\n",
            " -1.2085793  -3.0793111   1.0779322   1.4460907   0.22696538 -2.4391155\n",
            "  1.1738836  -2.3457527   1.6141608  -3.00808    -3.37547    -0.5780157\n",
            "  4.2918987  -1.5850782   1.7945678   0.45467    -1.6425543   0.12962143\n",
            "  2.8937454  -1.6493969  -0.9385085  -1.5030985   1.1206031   0.57021344\n",
            "  2.711988    3.3376288  -3.4689908   0.18826424  1.5167571   1.718417\n",
            "  1.4280552   2.9121883   1.315315    0.3117015  -0.8134721   0.24921931\n",
            "  3.4753025   0.1075893  -1.6994294  -0.4471471  -2.346169   -3.3105104\n",
            " -0.601055    2.1413078  -2.827284   -0.8903764  -4.369123    2.4538007\n",
            "  1.5427431   1.2603893   0.43041423  0.9806179   2.3029087   1.3808886\n",
            "  1.0551301   0.90478575 -2.0104566  -1.8178672  -4.3620358  -1.7123473\n",
            " -0.59834564  1.2947032   1.0346504  -1.3607873  -2.9980817   1.322663\n",
            " -2.7604184  -0.0613544  -0.05630947  1.9883164   0.3894708  -2.2549086\n",
            " -0.4380229  -2.93373    -0.6783614   1.3230356  -1.64948    -0.8287792\n",
            " -0.9730814  -0.23430853 -1.3323032  -1.7133929  -0.5282601  -3.7944388\n",
            "  3.604136    0.8345724  -3.8578093   1.9048145  -2.2070713  -0.79292774\n",
            "  3.2211018   1.5662311  -0.6107979   3.134194    1.9239787   1.2342427\n",
            " -0.5662385  -1.0293465   0.15388289 -1.1304629  -2.9361498  -0.08055715\n",
            " -0.7673821  -1.8200713  -1.4257864  -2.9859474  -1.0686336   1.9553144\n",
            "  0.1872064  -0.49871317  4.049228   -2.6446893   1.2439548   2.2260857\n",
            "  0.6169408   2.3234289  -1.8328716  -0.5164892  -1.8241568  -0.50309575\n",
            " -1.4224794  -0.40090564  1.2808129   0.9375853  -1.8449181   1.3371265\n",
            " -2.0048416   0.40842637 -0.5914007   3.1839128   2.4050028  -1.2577403\n",
            " -4.3843846  -2.1723583   0.4916753  -1.0234352   4.1995497  -0.11247784\n",
            "  1.3719028   1.2814529  -0.05420069  5.5528555   3.4494078   4.2204385\n",
            "  1.9955286  -0.7416171  -0.6650322   1.3312942  -2.5949314  -0.7021217\n",
            " -0.07953931 -0.23389718  0.57824546 -3.6367211   1.2998228  -0.17811468\n",
            "  1.3147551   0.42428496 -0.3487285   1.3776652   3.064028   -0.18804\n",
            " -1.409168    0.950879    3.0656872  -0.16499709  0.33236995  0.62631565\n",
            " -0.92904145  0.20159432  1.8698615   0.2295409   0.18741783  1.6162571\n",
            " -1.8069664   2.761196    1.7501707  -2.091655   -1.5027636   1.564623  ]\n",
            "[patient] vector: [ 2.6659e+00  3.4691e+00 -1.4417e+00 -3.2020e-01  3.5292e+00 -1.2774e+00\n",
            " -1.9429e+00  4.6666e+00 -2.9834e+00  2.9379e+00  4.5737e+00  1.5560e-01\n",
            " -1.8719e+00  2.6739e+00 -2.3270e+00 -1.2606e+00  4.6607e+00 -2.5615e+00\n",
            " -4.7820e+00  3.1664e+00 -5.0413e+00 -1.6592e+00 -5.8434e+00  2.4034e+00\n",
            " -2.7512e+00 -4.3757e+00  8.8962e-01  3.7583e+00 -1.3851e+00 -2.4707e+00\n",
            "  2.6914e+00  1.0119e+00 -3.1997e+00  1.5885e+00 -4.1601e-02 -2.9651e+00\n",
            " -2.1773e+00  3.0237e-02  4.2052e+00  4.8795e+00 -2.2630e+00 -2.8696e+00\n",
            " -1.8183e+00  3.3865e+00  9.4452e-01  2.5462e+00  3.5492e+00 -5.0759e+00\n",
            " -2.3360e-01  1.4494e+00  2.4446e+00  3.1962e+00 -5.1398e-01 -3.3498e+00\n",
            " -5.7751e-02  4.1832e+00  2.2730e+00 -3.2183e+00 -4.2761e-01 -7.2662e-01\n",
            " -5.6615e-01  7.7095e-01 -7.0898e+00 -1.3829e+00  4.3718e+00  1.2911e+00\n",
            "  1.6295e+00 -4.8576e+00 -2.0833e+00  3.2878e+00  2.9118e+00 -1.0901e+00\n",
            " -3.2397e+00  1.2951e+00 -1.6678e+00  4.1620e-01 -4.6218e+00 -1.7349e+00\n",
            " -4.3354e+00 -6.8599e-01 -1.3994e+00  3.9885e+00 -3.4009e+00 -2.0764e+00\n",
            "  2.0138e+00  7.4122e-01 -3.0070e+00  3.0522e+00  3.8240e+00  2.0493e-01\n",
            " -1.9162e+00  2.9912e+00  1.0954e+00 -3.4925e+00 -4.1333e-02  1.2446e+00\n",
            " -1.3447e+00 -1.0268e+00  6.5682e-01  2.9435e+00  3.4438e+00  4.6810e+00\n",
            "  1.8975e+00  1.6666e+00 -1.8751e+00  8.3383e-01 -2.7435e+00 -2.3001e+00\n",
            " -1.2227e-01 -2.2862e+00  3.2935e+00  4.8773e-01  4.3819e-01  8.6386e-01\n",
            "  5.0415e+00  1.9765e+00 -4.1444e+00 -1.8107e+00  7.6715e-01 -7.8898e-01\n",
            " -5.0613e+00 -5.7265e-01 -4.7218e+00 -2.0153e-01 -5.5145e-01 -6.5359e+00\n",
            "  2.0821e+00 -2.0845e+00  6.2620e-01  5.6192e-01 -3.3519e-01  3.9507e-01\n",
            "  2.8594e+00  9.3250e-01  1.2069e+00  4.0307e-01 -5.2311e+00 -1.7639e+00\n",
            "  3.3935e+00 -4.1579e+00 -2.3959e-01 -4.6148e+00  3.3509e+00  5.1163e-01\n",
            "  2.0666e+00 -4.5213e+00 -5.6337e-01 -1.5800e+00  3.9750e-01 -3.1969e-01\n",
            "  3.8414e+00  9.1548e-02  9.4070e-02 -1.3211e+00  2.5124e+00 -7.5524e-01\n",
            "  2.1465e+00 -7.0315e-01  1.8682e+00 -3.6034e+00 -3.5129e+00 -2.0764e+00\n",
            " -2.7459e+00  5.8025e+00 -1.6214e+00 -1.1929e+00  2.5864e+00 -1.2864e+00\n",
            "  5.3131e-01 -1.7177e+00 -6.9584e-01  4.8911e-01  4.6764e+00 -1.3446e+00\n",
            "  4.1855e+00  2.8473e+00 -3.5670e+00 -5.7339e-01 -2.3120e+00 -5.1584e-01\n",
            "  3.3246e+00 -2.1859e+00  5.0301e+00 -2.5313e+00 -2.9773e+00  6.3377e-01\n",
            " -6.5453e-01 -2.5344e+00  1.1533e+00  5.0908e+00 -2.7168e+00  3.8050e+00\n",
            " -2.3333e+00 -3.3197e-01 -1.3659e+00 -1.2685e+00 -1.5992e+00  7.0588e-01\n",
            " -1.2684e+00 -5.9486e-01  6.2068e-01 -1.5790e+00 -1.5671e+00  1.2524e+00\n",
            "  1.5950e+00  3.8812e+00 -3.0383e+00 -2.1151e+00 -7.5278e+00 -1.0880e+00\n",
            "  4.9998e+00 -4.9125e-02  3.5758e+00  2.9883e+00 -5.0506e+00  2.0338e+00\n",
            "  2.4466e+00  1.1643e+00 -1.8074e+00  4.4550e+00 -3.3853e+00  2.5303e-01\n",
            " -3.7555e+00 -2.4859e+00  5.6307e+00  2.2765e-01 -2.8388e+00 -3.7371e+00\n",
            "  2.2099e-01 -3.0411e+00 -8.0420e-01 -3.5738e+00  1.9356e-01  1.2919e+00\n",
            " -8.4633e-01  1.5141e-02 -3.4266e-01  2.7277e+00  4.0476e-02  4.2494e-01\n",
            " -3.8747e+00  3.0970e-01  3.3764e+00 -1.0729e+00  3.4155e+00  2.7770e+00\n",
            " -1.1376e+00  2.5873e+00  1.7959e+00  7.8753e-01  1.3665e+00 -6.7777e-02\n",
            " -2.6386e+00 -3.2570e+00  8.1639e-02  2.4332e-01  3.6028e+00  9.8031e-01\n",
            "  3.3393e+00  3.2545e+00  3.1246e-01  4.5526e+00  6.0822e+00  2.1916e+00\n",
            "  3.8575e+00  3.2902e-01 -1.1992e+00  1.2466e+00  2.3128e-02  2.1668e-03\n",
            " -1.8304e+00  2.3294e+00  2.9391e-02 -3.0852e+00 -2.4131e+00 -3.2046e+00\n",
            " -1.4679e+00 -8.4592e-01 -3.7476e+00  4.5819e-01  5.8634e+00 -8.4159e-01\n",
            "  1.0816e+00  1.2671e+00  4.9553e+00 -6.2462e-01 -5.0392e-01  4.3993e+00\n",
            " -6.8869e+00 -5.2464e+00  1.8776e+00  5.1218e-01  1.7405e-01 -1.0685e+00\n",
            " -8.9059e-01 -2.4308e+00  2.7874e-01 -1.5124e+00 -8.3884e-01  6.0512e+00]\n"
          ]
        }
      ],
      "source": [
        "import spacy\n",
        "nlp_lg = spacy.load('en_core_web_lg')\n",
        "doc = nlp_lg(\"The patient is scheduled to have a surgery in Washington on April 1st.\")\n",
        "print(\"Doc vector:\", doc.vector)\n",
        "print(\"[patient] vector:\", doc[1].vector)"
      ]
    },
    {
      "cell_type": "code",
      "execution_count": 14,
      "metadata": {
        "colab": {
          "base_uri": "https://localhost:8080/"
        },
        "id": "ALemXp0VIR1j",
        "outputId": "06333725-597e-4e6f-cac2-3412f625d415"
      },
      "outputs": [
        {
          "output_type": "stream",
          "name": "stdout",
          "text": [
            "country:state--0.6733426593248708\n",
            "country:county--0.5582053585432187\n"
          ]
        }
      ],
      "source": [
        "doc1 = nlp_lg('country')\n",
        "doc2 = nlp_lg('state')\n",
        "doc3 = nlp_lg('county')\n",
        "print(f'{doc1}:{doc2}--{doc1.similarity(doc2)}')\n",
        "print(f'{doc1}:{doc3}--{doc1.similarity(doc3)}')"
      ]
    },
    {
      "cell_type": "code",
      "execution_count": 15,
      "metadata": {
        "colab": {
          "base_uri": "https://localhost:8080/"
        },
        "id": "IcTCe5jdIR1j",
        "outputId": "f7e74b6d-6a05-4538-d60b-9544cebf6403"
      },
      "outputs": [
        {
          "output_type": "stream",
          "name": "stdout",
          "text": [
            "[(10117188822904858183, 1, 2), (10117188822904858183, 7, 8)]\n"
          ]
        }
      ],
      "source": [
        "from spacy.matcher import Matcher\n",
        "matcher = Matcher(nlp_lg.vocab)\n",
        "patterns = [[{\"TEXT\": \"surgery\"}], [{\"TEXT\": \"patient\"}]]\n",
        "matcher.add(\"Medical\", patterns)\n",
        "doc = nlp_lg(\"The patient is scheduled to have a surgery in Washington on April 1st.\")\n",
        "matches = matcher(doc)\n",
        "print(matches)"
      ]
    },
    {
      "cell_type": "code",
      "execution_count": 16,
      "metadata": {
        "colab": {
          "base_uri": "https://localhost:8080/"
        },
        "id": "AzpMlNvLIR1j",
        "outputId": "ff842ace-183a-4ef8-a836-1f749efc2b02"
      },
      "outputs": [
        {
          "output_type": "stream",
          "name": "stdout",
          "text": [
            "Noun phrases: ['The patient', 'a surgery', 'Washington', 'April 1st']\n",
            "Verbs: ['schedule', 'have']\n"
          ]
        }
      ],
      "source": [
        "print(\"Noun phrases:\", [chunk.text for chunk in doc.noun_chunks])\n",
        "print(\"Verbs:\", [token.lemma_ for token in doc if token.pos_ == \"VERB\"])"
      ]
    },
    {
      "cell_type": "code",
      "execution_count": null,
      "metadata": {
        "id": "udKD3S_MIR1k"
      },
      "outputs": [],
      "source": []
    }
  ]
}